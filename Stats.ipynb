{
 "cells": [
  {
   "cell_type": "code",
   "execution_count": 4,
   "metadata": {
    "collapsed": true
   },
   "outputs": [],
   "source": [
    "import pandas as pd\n",
    "import numpy as np\n",
    "pd.set_option('display.float_format', lambda x: '%.6f' % x)"
   ]
  },
  {
   "cell_type": "code",
   "execution_count": 11,
   "outputs": [
    {
     "data": {
      "text/plain": "        Patient_ID Measurement_date Measurement_time  Measurement\n0        LIB193263       2020-06-09         19:08:00           99\n1        LIB193263       2020-06-09         19:23:00           92\n2        LIB193263       2020-06-09         19:38:00           86\n3        LIB193263       2020-06-09         19:53:00           85\n4        LIB193263       2020-06-09         20:08:00           85\n...            ...              ...              ...          ...\n2999995  LIB193424       2022-01-02         01:05:00          207\n2999996  LIB193424       2022-01-02         01:20:00          215\n2999997  LIB193424       2022-01-02         01:35:00          218\n2999998  LIB193424       2022-01-02         01:50:00          222\n2999999  LIB193424       2022-01-02         02:05:00          220\n\n[3000000 rows x 4 columns]",
      "text/html": "<div>\n<style scoped>\n    .dataframe tbody tr th:only-of-type {\n        vertical-align: middle;\n    }\n\n    .dataframe tbody tr th {\n        vertical-align: top;\n    }\n\n    .dataframe thead th {\n        text-align: right;\n    }\n</style>\n<table border=\"1\" class=\"dataframe\">\n  <thead>\n    <tr style=\"text-align: right;\">\n      <th></th>\n      <th>Patient_ID</th>\n      <th>Measurement_date</th>\n      <th>Measurement_time</th>\n      <th>Measurement</th>\n    </tr>\n  </thead>\n  <tbody>\n    <tr>\n      <th>0</th>\n      <td>LIB193263</td>\n      <td>2020-06-09</td>\n      <td>19:08:00</td>\n      <td>99</td>\n    </tr>\n    <tr>\n      <th>1</th>\n      <td>LIB193263</td>\n      <td>2020-06-09</td>\n      <td>19:23:00</td>\n      <td>92</td>\n    </tr>\n    <tr>\n      <th>2</th>\n      <td>LIB193263</td>\n      <td>2020-06-09</td>\n      <td>19:38:00</td>\n      <td>86</td>\n    </tr>\n    <tr>\n      <th>3</th>\n      <td>LIB193263</td>\n      <td>2020-06-09</td>\n      <td>19:53:00</td>\n      <td>85</td>\n    </tr>\n    <tr>\n      <th>4</th>\n      <td>LIB193263</td>\n      <td>2020-06-09</td>\n      <td>20:08:00</td>\n      <td>85</td>\n    </tr>\n    <tr>\n      <th>...</th>\n      <td>...</td>\n      <td>...</td>\n      <td>...</td>\n      <td>...</td>\n    </tr>\n    <tr>\n      <th>2999995</th>\n      <td>LIB193424</td>\n      <td>2022-01-02</td>\n      <td>01:05:00</td>\n      <td>207</td>\n    </tr>\n    <tr>\n      <th>2999996</th>\n      <td>LIB193424</td>\n      <td>2022-01-02</td>\n      <td>01:20:00</td>\n      <td>215</td>\n    </tr>\n    <tr>\n      <th>2999997</th>\n      <td>LIB193424</td>\n      <td>2022-01-02</td>\n      <td>01:35:00</td>\n      <td>218</td>\n    </tr>\n    <tr>\n      <th>2999998</th>\n      <td>LIB193424</td>\n      <td>2022-01-02</td>\n      <td>01:50:00</td>\n      <td>222</td>\n    </tr>\n    <tr>\n      <th>2999999</th>\n      <td>LIB193424</td>\n      <td>2022-01-02</td>\n      <td>02:05:00</td>\n      <td>220</td>\n    </tr>\n  </tbody>\n</table>\n<p>3000000 rows × 4 columns</p>\n</div>"
     },
     "execution_count": 11,
     "metadata": {},
     "output_type": "execute_result"
    }
   ],
   "source": [
    "df_glucose = pd.read_csv('Glucose_measurements_sample.csv', dtype={'Glucose_measurements' : int})\n",
    "df_glucose"
   ],
   "metadata": {
    "collapsed": false
   }
  },
  {
   "cell_type": "code",
   "execution_count": 20,
   "outputs": [
    {
     "name": "stdout",
     "output_type": "stream",
     "text": [
      "<class 'pandas.core.frame.DataFrame'>\n",
      "RangeIndex: 3027433 entries, 0 to 3027432\n",
      "Data columns (total 4 columns):\n",
      " #   Column            Dtype \n",
      "---  ------            ----- \n",
      " 0   Patient_ID        object\n",
      " 1   Measurement_date  object\n",
      " 2   Measurement_time  object\n",
      " 3   Measurement       int64 \n",
      "dtypes: int64(1), object(3)\n",
      "memory usage: 92.4+ MB\n"
     ]
    }
   ],
   "source": [
    "df_glucose.info()"
   ],
   "metadata": {
    "collapsed": false
   }
  },
  {
   "cell_type": "code",
   "execution_count": 21,
   "outputs": [
    {
     "data": {
      "text/plain": "         Measurement\ncount 3027433.000000\nmean      159.022176\nstd        65.449089\nmin        40.000000\n25%       110.000000\n50%       148.000000\n75%       197.000000\nmax       500.000000",
      "text/html": "<div>\n<style scoped>\n    .dataframe tbody tr th:only-of-type {\n        vertical-align: middle;\n    }\n\n    .dataframe tbody tr th {\n        vertical-align: top;\n    }\n\n    .dataframe thead th {\n        text-align: right;\n    }\n</style>\n<table border=\"1\" class=\"dataframe\">\n  <thead>\n    <tr style=\"text-align: right;\">\n      <th></th>\n      <th>Measurement</th>\n    </tr>\n  </thead>\n  <tbody>\n    <tr>\n      <th>count</th>\n      <td>3027433.000000</td>\n    </tr>\n    <tr>\n      <th>mean</th>\n      <td>159.022176</td>\n    </tr>\n    <tr>\n      <th>std</th>\n      <td>65.449089</td>\n    </tr>\n    <tr>\n      <th>min</th>\n      <td>40.000000</td>\n    </tr>\n    <tr>\n      <th>25%</th>\n      <td>110.000000</td>\n    </tr>\n    <tr>\n      <th>50%</th>\n      <td>148.000000</td>\n    </tr>\n    <tr>\n      <th>75%</th>\n      <td>197.000000</td>\n    </tr>\n    <tr>\n      <th>max</th>\n      <td>500.000000</td>\n    </tr>\n  </tbody>\n</table>\n</div>"
     },
     "execution_count": 21,
     "metadata": {},
     "output_type": "execute_result"
    }
   ],
   "source": [
    "df_glucose.describe()"
   ],
   "metadata": {
    "collapsed": false
   }
  },
  {
   "cell_type": "code",
   "execution_count": 10,
   "outputs": [
    {
     "data": {
      "text/plain": "          Measurement\n0.010000    54.000000\n0.050000    72.000000\n0.100000    85.000000\n0.150000    95.000000\n0.250000   110.000000\n0.500000   148.000000\n0.750000   197.000000\n0.850000   227.000000\n0.900000   248.000000\n0.999000   446.000000",
      "text/html": "<div>\n<style scoped>\n    .dataframe tbody tr th:only-of-type {\n        vertical-align: middle;\n    }\n\n    .dataframe tbody tr th {\n        vertical-align: top;\n    }\n\n    .dataframe thead th {\n        text-align: right;\n    }\n</style>\n<table border=\"1\" class=\"dataframe\">\n  <thead>\n    <tr style=\"text-align: right;\">\n      <th></th>\n      <th>Measurement</th>\n    </tr>\n  </thead>\n  <tbody>\n    <tr>\n      <th>0.010000</th>\n      <td>54.000000</td>\n    </tr>\n    <tr>\n      <th>0.050000</th>\n      <td>72.000000</td>\n    </tr>\n    <tr>\n      <th>0.100000</th>\n      <td>85.000000</td>\n    </tr>\n    <tr>\n      <th>0.150000</th>\n      <td>95.000000</td>\n    </tr>\n    <tr>\n      <th>0.250000</th>\n      <td>110.000000</td>\n    </tr>\n    <tr>\n      <th>0.500000</th>\n      <td>148.000000</td>\n    </tr>\n    <tr>\n      <th>0.750000</th>\n      <td>197.000000</td>\n    </tr>\n    <tr>\n      <th>0.850000</th>\n      <td>227.000000</td>\n    </tr>\n    <tr>\n      <th>0.900000</th>\n      <td>248.000000</td>\n    </tr>\n    <tr>\n      <th>0.999000</th>\n      <td>446.000000</td>\n    </tr>\n  </tbody>\n</table>\n</div>"
     },
     "execution_count": 10,
     "metadata": {},
     "output_type": "execute_result"
    }
   ],
   "source": [
    "df_glucose.quantile([.01,.05,.10,.15,.25,.50,.75,.85,.90,.999])"
   ],
   "metadata": {
    "collapsed": false
   }
  },
  {
   "cell_type": "code",
   "execution_count": 6,
   "outputs": [
    {
     "data": {
      "text/plain": "LIB193277    114598\nLIB193385    114107\nLIB193307    104058\nLIB193309     77289\nLIB193367     76925\n              ...  \nLIB193414      1588\nLIB193366      1287\nLIB193398      1253\nLIB193283      1098\nLIB193365      1057\nName: Patient_ID, Length: 110, dtype: int64"
     },
     "execution_count": 6,
     "metadata": {},
     "output_type": "execute_result"
    }
   ],
   "source": [
    "df_glucose['Patient_ID'].value_counts()"
   ],
   "metadata": {
    "collapsed": false
   }
  },
  {
   "cell_type": "code",
   "execution_count": 23,
   "outputs": [
    {
     "data": {
      "text/plain": "2021-10-25    6730\n2021-10-26    6680\n2021-11-02    6666\n2021-11-11    6578\n2021-11-07    6574\n              ... \n2018-04-11      40\n2018-03-02      36\n2018-05-13      34\n2018-03-27      29\n2018-02-21      17\nName: Measurement_date, Length: 1431, dtype: int64"
     },
     "execution_count": 23,
     "metadata": {},
     "output_type": "execute_result"
    }
   ],
   "source": [
    "df_glucose['Measurement_date'].value_counts()"
   ],
   "metadata": {
    "collapsed": false
   }
  },
  {
   "cell_type": "code",
   "execution_count": 24,
   "outputs": [
    {
     "name": "stdout",
     "output_type": "stream",
     "text": [
      "First date:  2018-02-21\n",
      "Final date:  2022-03-21\n"
     ]
    }
   ],
   "source": [
    "print('First date: ', df_glucose['Measurement_date'].min())\n",
    "print('Final date: ', df_glucose['Measurement_date'].max())"
   ],
   "metadata": {
    "collapsed": false
   }
  },
  {
   "cell_type": "markdown",
   "source": [
    "- Distance between measurements 15 minutes generally.\n",
    "- Maybe long gaps between measurements\n"
   ],
   "metadata": {
    "collapsed": false
   }
  },
  {
   "cell_type": "code",
   "execution_count": null,
   "outputs": [],
   "source": [],
   "metadata": {
    "collapsed": false
   }
  }
 ],
 "metadata": {
  "kernelspec": {
   "display_name": "Python 3",
   "language": "python",
   "name": "python3"
  },
  "language_info": {
   "codemirror_mode": {
    "name": "ipython",
    "version": 2
   },
   "file_extension": ".py",
   "mimetype": "text/x-python",
   "name": "python",
   "nbconvert_exporter": "python",
   "pygments_lexer": "ipython2",
   "version": "2.7.6"
  }
 },
 "nbformat": 4,
 "nbformat_minor": 0
}
