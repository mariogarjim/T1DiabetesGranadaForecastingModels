{
 "cells": [
  {
   "cell_type": "code",
   "execution_count": 8,
   "metadata": {
    "collapsed": true
   },
   "outputs": [],
   "source": [
    "import pandas as pd\n",
    "import numpy as np\n",
    "from sklearn.linear_model import LinearRegression\n",
    "from sklearn.metrics import mean_squared_error\n",
    "\n",
    "\n",
    "pd.set_option('display.float_format', lambda x: '%.6f' % x)\n",
    "pd.options.mode.chained_assignment = None  # default='warn'"
   ]
  },
  {
   "cell_type": "code",
   "execution_count": 5,
   "outputs": [],
   "source": [
    "def get_patient_ids(df=None):\n",
    "    \"\"\"\n",
    "\n",
    "    :param df_glucose:\n",
    "    :return: List of patient ids\n",
    "    \"\"\"\n",
    "    if df is None:\n",
    "        df = read_dataset()\n",
    "    return df['Patient_ID'].unique()"
   ],
   "metadata": {
    "collapsed": false
   }
  },
  {
   "cell_type": "code",
   "execution_count": 3,
   "outputs": [],
   "source": [
    "# Reading complete dataset and creating cols lagged for time and measurements\n",
    "df_glucose = pd.read_csv('Data_preprocessed.csv',\n",
    "                      dtype={'Glucose_measurements': int})\n",
    "complete_df_glucose = df_glucose.copy()\n"
   ],
   "metadata": {
    "collapsed": false
   }
  },
  {
   "cell_type": "code",
   "execution_count": 4,
   "outputs": [
    {
     "data": {
      "text/plain": "        Patient_ID                    t  Measurement  Minutes_diff  \\\n0        LIB193263  2020-06-09 19:15:00    92.000000           NaN   \n1        LIB193263  2020-06-09 19:30:00    86.000000     15.000000   \n2        LIB193263  2020-06-09 19:45:00    85.000000     15.000000   \n3        LIB193263  2020-06-09 20:00:00    85.000000     15.000000   \n4        LIB193263  2020-06-09 20:15:00    87.000000     15.000000   \n...            ...                  ...          ...           ...   \n4090741  LIB193424  2022-01-02 01:00:00   207.000000     15.000000   \n4090742  LIB193424  2022-01-02 01:15:00   215.000000     15.000000   \n4090743  LIB193424  2022-01-02 01:30:00   218.000000     15.000000   \n4090744  LIB193424  2022-01-02 01:45:00   222.000000     15.000000   \n4090745  LIB193424  2022-01-02 02:00:00   220.000000     15.000000   \n\n         Measurement-1  Measurement_diff  Interpolated  \n0                  NaN               NaN             0  \n1            92.000000          6.000000             0  \n2            86.000000          1.000000             0  \n3            85.000000          0.000000             0  \n4            85.000000          2.000000             0  \n...                ...               ...           ...  \n4090741     186.000000         21.000000             0  \n4090742     207.000000          8.000000             0  \n4090743     215.000000          3.000000             0  \n4090744     218.000000          4.000000             0  \n4090745     222.000000          2.000000             0  \n\n[4090746 rows x 7 columns]",
      "text/html": "<div>\n<style scoped>\n    .dataframe tbody tr th:only-of-type {\n        vertical-align: middle;\n    }\n\n    .dataframe tbody tr th {\n        vertical-align: top;\n    }\n\n    .dataframe thead th {\n        text-align: right;\n    }\n</style>\n<table border=\"1\" class=\"dataframe\">\n  <thead>\n    <tr style=\"text-align: right;\">\n      <th></th>\n      <th>Patient_ID</th>\n      <th>t</th>\n      <th>Measurement</th>\n      <th>Minutes_diff</th>\n      <th>Measurement-1</th>\n      <th>Measurement_diff</th>\n      <th>Interpolated</th>\n    </tr>\n  </thead>\n  <tbody>\n    <tr>\n      <th>0</th>\n      <td>LIB193263</td>\n      <td>2020-06-09 19:15:00</td>\n      <td>92.000000</td>\n      <td>NaN</td>\n      <td>NaN</td>\n      <td>NaN</td>\n      <td>0</td>\n    </tr>\n    <tr>\n      <th>1</th>\n      <td>LIB193263</td>\n      <td>2020-06-09 19:30:00</td>\n      <td>86.000000</td>\n      <td>15.000000</td>\n      <td>92.000000</td>\n      <td>6.000000</td>\n      <td>0</td>\n    </tr>\n    <tr>\n      <th>2</th>\n      <td>LIB193263</td>\n      <td>2020-06-09 19:45:00</td>\n      <td>85.000000</td>\n      <td>15.000000</td>\n      <td>86.000000</td>\n      <td>1.000000</td>\n      <td>0</td>\n    </tr>\n    <tr>\n      <th>3</th>\n      <td>LIB193263</td>\n      <td>2020-06-09 20:00:00</td>\n      <td>85.000000</td>\n      <td>15.000000</td>\n      <td>85.000000</td>\n      <td>0.000000</td>\n      <td>0</td>\n    </tr>\n    <tr>\n      <th>4</th>\n      <td>LIB193263</td>\n      <td>2020-06-09 20:15:00</td>\n      <td>87.000000</td>\n      <td>15.000000</td>\n      <td>85.000000</td>\n      <td>2.000000</td>\n      <td>0</td>\n    </tr>\n    <tr>\n      <th>...</th>\n      <td>...</td>\n      <td>...</td>\n      <td>...</td>\n      <td>...</td>\n      <td>...</td>\n      <td>...</td>\n      <td>...</td>\n    </tr>\n    <tr>\n      <th>4090741</th>\n      <td>LIB193424</td>\n      <td>2022-01-02 01:00:00</td>\n      <td>207.000000</td>\n      <td>15.000000</td>\n      <td>186.000000</td>\n      <td>21.000000</td>\n      <td>0</td>\n    </tr>\n    <tr>\n      <th>4090742</th>\n      <td>LIB193424</td>\n      <td>2022-01-02 01:15:00</td>\n      <td>215.000000</td>\n      <td>15.000000</td>\n      <td>207.000000</td>\n      <td>8.000000</td>\n      <td>0</td>\n    </tr>\n    <tr>\n      <th>4090743</th>\n      <td>LIB193424</td>\n      <td>2022-01-02 01:30:00</td>\n      <td>218.000000</td>\n      <td>15.000000</td>\n      <td>215.000000</td>\n      <td>3.000000</td>\n      <td>0</td>\n    </tr>\n    <tr>\n      <th>4090744</th>\n      <td>LIB193424</td>\n      <td>2022-01-02 01:45:00</td>\n      <td>222.000000</td>\n      <td>15.000000</td>\n      <td>218.000000</td>\n      <td>4.000000</td>\n      <td>0</td>\n    </tr>\n    <tr>\n      <th>4090745</th>\n      <td>LIB193424</td>\n      <td>2022-01-02 02:00:00</td>\n      <td>220.000000</td>\n      <td>15.000000</td>\n      <td>222.000000</td>\n      <td>2.000000</td>\n      <td>0</td>\n    </tr>\n  </tbody>\n</table>\n<p>4090746 rows × 7 columns</p>\n</div>"
     },
     "execution_count": 4,
     "metadata": {},
     "output_type": "execute_result"
    }
   ],
   "source": [
    "df_glucose"
   ],
   "metadata": {
    "collapsed": false
   }
  },
  {
   "cell_type": "code",
   "execution_count": 31,
   "outputs": [],
   "source": [
    "def missing_values(subset):\n",
    "    return subset['Measurement'].isna().sum()\n",
    "\n",
    "def interpolate(subset):\n",
    "     subset_interpolate = subset.apply(lambda sample: sample.interpolate(method=\"polynomial\", order=2))\n",
    "     # Fixing values out of range\n",
    "     subset_interpolate[(subset_interpolate[\"Measurement\"] < 40)] = 40\n",
    "     subset_interpolate[(subset_interpolate[\"Measurement\"] > 500)] = 500\n",
    "\n",
    "     return subset_interpolate\n",
    "\n",
    "def linear_model(train, test, perc):\n",
    "    train_split = round(train.shape[0] * perc)\n",
    "    test_split = round(test.shape[0] * perc)\n",
    "    x_train, y_train = train.iloc[0:train_split], train.iloc[train_split, train.shape[0]]\n",
    "    x_test, y_test = test.iloc[0:test_split], test.iloc[test_split, test.shape[0]]\n",
    "\n",
    "    model = LinearRegression().fit(x_train, y_train)\n",
    "    y_pred = model.predict(x_test)\n",
    "    mse = mean_squared_error(y_test, y_pred)\n",
    "    rmse = np.sqrt(mse)\n",
    "\n",
    "    return rmse\n",
    "\n",
    "def non_anchored_walk_forward_optimization(data, lookback_samples, validation_samples, na_tolerance, anchored = False):\n",
    "\n",
    "    patients = get_patient_ids(data)    # Getting ids of patients\n",
    "    start = 0\n",
    "    wasted_data = 0\n",
    "    windows_patients = []\n",
    "    error_patients = []\n",
    "\n",
    "    for patient in patients:\n",
    "        print(f\"Patient {patient}...\")\n",
    "        windows_patient = 0\n",
    "        data_patient = data[data['Patient_ID'] == patient]\n",
    "        error_patient = []\n",
    "        for s in range(lookback_samples, data_patient.shape[0] - validation_samples, lookback_samples):\n",
    "            if not anchored:\n",
    "                train_subset = data_patient.iloc[s-lookback_samples : s]\n",
    "            else:\n",
    "                train_subset = data_patient.iloc[start: s]\n",
    "            validation_subset = data_patient.iloc[s : s + validation_samples]\n",
    "            train_subset_missing_values = missing_values(train_subset)\n",
    "            validation_subset_missing_values = missing_values(validation_subset)\n",
    "\n",
    "            if train_subset_missing_values > na_tolerance or validation_subset_missing_values > 0:      #No missing values allowed in validation subset\n",
    "                wasted_data = wasted_data + lookback_samples\n",
    "                if anchored:\n",
    "                    start = s\n",
    "                continue\n",
    "\n",
    "            if 0 < train_subset_missing_values <= na_tolerance:\n",
    "                train_subset = interpolate(train_subset)\n",
    "\n",
    "            #error_patient.append(linear_model(train_subset['Measurement'],validation_subset['Measurement'],0.8))\n",
    "            windows_patient = windows_patient + 1\n",
    "\n",
    "\n",
    "\n",
    "        error_patients.append(np.average(error_patient))\n",
    "        windows_patients.append(windows_patient)\n",
    "        return [error_patients, windows_patients, wasted_data]"
   ],
   "metadata": {
    "collapsed": false
   }
  },
  {
   "cell_type": "code",
   "execution_count": 32,
   "outputs": [
    {
     "name": "stdout",
     "output_type": "stream",
     "text": [
      "Patient LIB193263...\n"
     ]
    },
    {
     "name": "stderr",
     "output_type": "stream",
     "text": [
      "C:\\Users\\Mario\\anaconda3\\lib\\site-packages\\numpy\\lib\\function_base.py:380: RuntimeWarning: Mean of empty slice.\n",
      "  avg = a.mean(axis)\n",
      "C:\\Users\\Mario\\anaconda3\\lib\\site-packages\\numpy\\core\\_methods.py:188: RuntimeWarning: invalid value encountered in double_scalars\n",
      "  ret = ret.dtype.type(ret / rcount)\n"
     ]
    }
   ],
   "source": [
    "results = non_anchored_walk_forward_optimization(df_glucose, lookback_samples=4, validation_samples=2, na_tolerance=1, anchored=False)"
   ],
   "metadata": {
    "collapsed": false
   }
  },
  {
   "cell_type": "code",
   "execution_count": 33,
   "outputs": [
    {
     "data": {
      "text/plain": "[[nan], [14471], 4272]"
     },
     "execution_count": 33,
     "metadata": {},
     "output_type": "execute_result"
    }
   ],
   "source": [
    "results"
   ],
   "metadata": {
    "collapsed": false
   }
  },
  {
   "cell_type": "code",
   "execution_count": 34,
   "outputs": [
    {
     "name": "stdout",
     "output_type": "stream",
     "text": [
      "Patient LIB193263...\n"
     ]
    },
    {
     "name": "stderr",
     "output_type": "stream",
     "text": [
      "C:\\Users\\Mario\\anaconda3\\lib\\site-packages\\numpy\\lib\\function_base.py:380: RuntimeWarning: Mean of empty slice.\n",
      "  avg = a.mean(axis)\n",
      "C:\\Users\\Mario\\anaconda3\\lib\\site-packages\\numpy\\core\\_methods.py:188: RuntimeWarning: invalid value encountered in double_scalars\n",
      "  ret = ret.dtype.type(ret / rcount)\n"
     ]
    }
   ],
   "source": [
    "results = non_anchored_walk_forward_optimization(df_glucose, lookback_samples=4, validation_samples=2, na_tolerance=1, anchored=True)"
   ],
   "metadata": {
    "collapsed": false
   }
  },
  {
   "cell_type": "code",
   "execution_count": 35,
   "outputs": [
    {
     "data": {
      "text/plain": "[[nan], [14420], 4476]"
     },
     "execution_count": 35,
     "metadata": {},
     "output_type": "execute_result"
    }
   ],
   "source": [
    "results"
   ],
   "metadata": {
    "collapsed": false
   }
  },
  {
   "cell_type": "code",
   "execution_count": 28,
   "outputs": [
    {
     "data": {
      "text/plain": "      Patient_ID                    t  Measurement  Minutes_diff  \\\n0      LIB193263  2020-06-09 19:15:00    92.000000           NaN   \n1      LIB193263  2020-06-09 19:30:00    86.000000     15.000000   \n2      LIB193263  2020-06-09 19:45:00    85.000000     15.000000   \n3      LIB193263  2020-06-09 20:00:00    85.000000     15.000000   \n4      LIB193263  2020-06-09 20:15:00    87.000000     15.000000   \n...          ...                  ...          ...           ...   \n62157  LIB193263  2022-03-19 06:30:00   124.000000     15.000000   \n62158  LIB193263  2022-03-19 06:45:00   124.000000     15.000000   \n62159  LIB193263  2022-03-19 07:00:00   118.000000     15.000000   \n62160  LIB193263  2022-03-19 07:15:00   110.000000     15.000000   \n62161  LIB193263  2022-03-19 07:30:00   105.000000     15.000000   \n\n       Measurement-1  Measurement_diff  Interpolated  \n0                NaN               NaN             0  \n1          92.000000          6.000000             0  \n2          86.000000          1.000000             0  \n3          85.000000          0.000000             0  \n4          85.000000          2.000000             0  \n...              ...               ...           ...  \n62157     123.000000          1.000000             0  \n62158     124.000000          0.000000             0  \n62159     124.000000          6.000000             0  \n62160     118.000000          8.000000             0  \n62161     110.000000          5.000000             0  \n\n[62162 rows x 7 columns]",
      "text/html": "<div>\n<style scoped>\n    .dataframe tbody tr th:only-of-type {\n        vertical-align: middle;\n    }\n\n    .dataframe tbody tr th {\n        vertical-align: top;\n    }\n\n    .dataframe thead th {\n        text-align: right;\n    }\n</style>\n<table border=\"1\" class=\"dataframe\">\n  <thead>\n    <tr style=\"text-align: right;\">\n      <th></th>\n      <th>Patient_ID</th>\n      <th>t</th>\n      <th>Measurement</th>\n      <th>Minutes_diff</th>\n      <th>Measurement-1</th>\n      <th>Measurement_diff</th>\n      <th>Interpolated</th>\n    </tr>\n  </thead>\n  <tbody>\n    <tr>\n      <th>0</th>\n      <td>LIB193263</td>\n      <td>2020-06-09 19:15:00</td>\n      <td>92.000000</td>\n      <td>NaN</td>\n      <td>NaN</td>\n      <td>NaN</td>\n      <td>0</td>\n    </tr>\n    <tr>\n      <th>1</th>\n      <td>LIB193263</td>\n      <td>2020-06-09 19:30:00</td>\n      <td>86.000000</td>\n      <td>15.000000</td>\n      <td>92.000000</td>\n      <td>6.000000</td>\n      <td>0</td>\n    </tr>\n    <tr>\n      <th>2</th>\n      <td>LIB193263</td>\n      <td>2020-06-09 19:45:00</td>\n      <td>85.000000</td>\n      <td>15.000000</td>\n      <td>86.000000</td>\n      <td>1.000000</td>\n      <td>0</td>\n    </tr>\n    <tr>\n      <th>3</th>\n      <td>LIB193263</td>\n      <td>2020-06-09 20:00:00</td>\n      <td>85.000000</td>\n      <td>15.000000</td>\n      <td>85.000000</td>\n      <td>0.000000</td>\n      <td>0</td>\n    </tr>\n    <tr>\n      <th>4</th>\n      <td>LIB193263</td>\n      <td>2020-06-09 20:15:00</td>\n      <td>87.000000</td>\n      <td>15.000000</td>\n      <td>85.000000</td>\n      <td>2.000000</td>\n      <td>0</td>\n    </tr>\n    <tr>\n      <th>...</th>\n      <td>...</td>\n      <td>...</td>\n      <td>...</td>\n      <td>...</td>\n      <td>...</td>\n      <td>...</td>\n      <td>...</td>\n    </tr>\n    <tr>\n      <th>62157</th>\n      <td>LIB193263</td>\n      <td>2022-03-19 06:30:00</td>\n      <td>124.000000</td>\n      <td>15.000000</td>\n      <td>123.000000</td>\n      <td>1.000000</td>\n      <td>0</td>\n    </tr>\n    <tr>\n      <th>62158</th>\n      <td>LIB193263</td>\n      <td>2022-03-19 06:45:00</td>\n      <td>124.000000</td>\n      <td>15.000000</td>\n      <td>124.000000</td>\n      <td>0.000000</td>\n      <td>0</td>\n    </tr>\n    <tr>\n      <th>62159</th>\n      <td>LIB193263</td>\n      <td>2022-03-19 07:00:00</td>\n      <td>118.000000</td>\n      <td>15.000000</td>\n      <td>124.000000</td>\n      <td>6.000000</td>\n      <td>0</td>\n    </tr>\n    <tr>\n      <th>62160</th>\n      <td>LIB193263</td>\n      <td>2022-03-19 07:15:00</td>\n      <td>110.000000</td>\n      <td>15.000000</td>\n      <td>118.000000</td>\n      <td>8.000000</td>\n      <td>0</td>\n    </tr>\n    <tr>\n      <th>62161</th>\n      <td>LIB193263</td>\n      <td>2022-03-19 07:30:00</td>\n      <td>105.000000</td>\n      <td>15.000000</td>\n      <td>110.000000</td>\n      <td>5.000000</td>\n      <td>0</td>\n    </tr>\n  </tbody>\n</table>\n<p>62162 rows × 7 columns</p>\n</div>"
     },
     "execution_count": 28,
     "metadata": {},
     "output_type": "execute_result"
    }
   ],
   "source": [
    "df_glucose[df_glucose[\"Patient_ID\"] == \"LIB193263\"]"
   ],
   "metadata": {
    "collapsed": false
   }
  },
  {
   "cell_type": "code",
   "execution_count": null,
   "outputs": [],
   "source": [],
   "metadata": {
    "collapsed": false
   }
  }
 ],
 "metadata": {
  "kernelspec": {
   "display_name": "Python 3",
   "language": "python",
   "name": "python3"
  },
  "language_info": {
   "codemirror_mode": {
    "name": "ipython",
    "version": 2
   },
   "file_extension": ".py",
   "mimetype": "text/x-python",
   "name": "python",
   "nbconvert_exporter": "python",
   "pygments_lexer": "ipython2",
   "version": "2.7.6"
  }
 },
 "nbformat": 4,
 "nbformat_minor": 0
}
