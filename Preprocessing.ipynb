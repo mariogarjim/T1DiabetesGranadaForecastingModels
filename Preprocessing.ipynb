{
 "cells": [
  {
   "cell_type": "code",
   "execution_count": 156,
   "metadata": {
    "collapsed": true
   },
   "outputs": [],
   "source": [
    "import pandas as pd\n",
    "import numpy as np\n",
    "import bisect\n",
    "import matplotlib.pyplot as plt\n",
    "from matplotlib.pyplot import figure\n",
    "import seaborn as sns\n",
    "from statsmodels.graphics.tsaplots import plot_acf\n",
    "from datetime import datetime\n",
    "\n",
    "pd.set_option('display.float_format', lambda x: '%.6f' % x)\n",
    "pd.options.mode.chained_assignment = None  # default='warn'"
   ]
  },
  {
   "cell_type": "markdown",
   "source": [
    "# Utilities Functions"
   ],
   "metadata": {
    "collapsed": false
   }
  },
  {
   "cell_type": "code",
   "execution_count": 217,
   "outputs": [],
   "source": [
    "def read_dataset():\n",
    "    \"\"\"\n",
    "\n",
    "    :return: Complete dataset\n",
    "    \"\"\"\n",
    "    df = pd.read_csv('Glucose_measurements_sample.csv',\n",
    "                      dtype={'Glucose_measurements': int})\n",
    "    add_features(df)\n",
    "\n",
    "    return df\n",
    "\n",
    "def add_features(df):\n",
    "    \"\"\"\n",
    "\n",
    "    :param df:\n",
    "    :return: Add a unify temporal and date column\n",
    "    \"\"\"\n",
    "    df[\"Time\"] = pd.to_datetime(df[\"Measurement_date\"] + ' '\n",
    "                                + df[\"Measurement_time\"])\n",
    "\n",
    "def get_patient_ids(df=None):\n",
    "    \"\"\"\n",
    "\n",
    "    :param df_glucose:\n",
    "    :return: List of patient ids\n",
    "    \"\"\"\n",
    "    if df is None:\n",
    "        df = read_dataset()\n",
    "    return df['Patient_ID'].unique()\n"
   ],
   "metadata": {
    "collapsed": false
   }
  },
  {
   "cell_type": "code",
   "execution_count": 223,
   "outputs": [],
   "source": [
    "# Return a dataset with lagged col of df and the difference\n",
    "def get_lagged_col(df, col, new_col_name, diff_name, diff_time_treatment = False,\n",
    "                   absolute_value = False):\n",
    "    \"\"\"\n",
    "    :param df: Dataframe to lagg, if not all dataset\n",
    "    :param col: Column to lag\n",
    "    :param new_col_name: New name of lagged column\n",
    "    :param diff_name: Name of diff column\n",
    "    :param diff_time_treatment: Time difference treatment\n",
    "    :param absolute_value: If true abs value diff\n",
    "    :return: A df with three columns: col, col-1 and difference\n",
    "\n",
    "\n",
    "    \"\"\"\n",
    "    df[f\"{new_col_name}-1\"] = df.groupby(['Patient_ID'])[col].shift(1)\n",
    "    df = df.rename(columns={col: new_col_name})\n",
    "\n",
    "    # Create diff col\n",
    "    df[diff_name] = df[new_col_name] - df[f\"{new_col_name}-1\"]\n",
    "    if absolute_value:\n",
    "        df[diff_name] = abs(df[diff_name])\n",
    "    if diff_time_treatment:\n",
    "        df[diff_name] = df[diff_name] / np.timedelta64(1, 'm')\n",
    "\n",
    "    return df\n",
    "\n",
    "def update_lag_cols(df, measurement_col = True, time_col = True):\n",
    "    '''\n",
    "\n",
    "    :param time_col:\n",
    "    :param measurement_col:\n",
    "    :param df:\n",
    "    :return: df with updated lag columns and diffs\n",
    "    '''\n",
    "    # Updating diff cols\n",
    "    if time_col:\n",
    "        df.drop('Minutes_diff', inplace=True, axis=1)\n",
    "        df.drop('t-1', inplace=True, axis=1)\n",
    "        df = get_lagged_col(df=df, col=\"t\", new_col_name=\"t\",\n",
    "                           diff_time_treatment=True, diff_name=\"Minutes_diff\")\n",
    "    if measurement_col:\n",
    "        df.drop('Measurement_diff', inplace=True, axis=1)\n",
    "        df.drop('Measurement-1', inplace=True, axis=1)\n",
    "        df = get_lagged_col(df=df, col=\"Measurement\", new_col_name=\"Measurement\",\n",
    "                                absolute_value=True, diff_name=\"Measurement_diff\")\n",
    "    return df"
   ],
   "metadata": {
    "collapsed": false
   }
  },
  {
   "cell_type": "markdown",
   "source": [
    "# Reading complete dataset and creating cols lagged for time and measurements"
   ],
   "metadata": {
    "collapsed": false
   }
  },
  {
   "cell_type": "code",
   "execution_count": 193,
   "outputs": [],
   "source": [
    "df_glucose = read_dataset()\n",
    "complete_df_glucose = df_glucose.copy()\n",
    "df_glucose_lag = get_lagged_col(df=df_glucose, col=\"Time\", new_col_name=\"t\",\n",
    "                           diff_time_treatment=True, diff_name=\"Minutes_diff\")\n",
    "df_glucose_lag = get_lagged_col(df=df_glucose_lag, col=\"Measurement\", new_col_name=\"Measurement\",\n",
    "                                absolute_value=True, diff_name=\"Measurement_diff\")\n",
    "# Removing first row (Nan) for each patient\n",
    "#df_glucose_lag = df_glucose_lag.dropna()"
   ],
   "metadata": {
    "collapsed": false
   }
  },
  {
   "cell_type": "code",
   "execution_count": 194,
   "outputs": [
    {
     "data": {
      "text/plain": "        Patient_ID Measurement_date Measurement_time  Measurement  \\\n0        LIB193263       2020-06-09         19:08:00           99   \n1        LIB193263       2020-06-09         19:23:00           92   \n2        LIB193263       2020-06-09         19:38:00           86   \n3        LIB193263       2020-06-09         19:53:00           85   \n4        LIB193263       2020-06-09         20:08:00           85   \n...            ...              ...              ...          ...   \n2999995  LIB193424       2022-01-02         01:05:00          207   \n2999996  LIB193424       2022-01-02         01:20:00          215   \n2999997  LIB193424       2022-01-02         01:35:00          218   \n2999998  LIB193424       2022-01-02         01:50:00          222   \n2999999  LIB193424       2022-01-02         02:05:00          220   \n\n                       Time  \n0       2020-06-09 19:08:00  \n1       2020-06-09 19:23:00  \n2       2020-06-09 19:38:00  \n3       2020-06-09 19:53:00  \n4       2020-06-09 20:08:00  \n...                     ...  \n2999995 2022-01-02 01:05:00  \n2999996 2022-01-02 01:20:00  \n2999997 2022-01-02 01:35:00  \n2999998 2022-01-02 01:50:00  \n2999999 2022-01-02 02:05:00  \n\n[3000000 rows x 5 columns]",
      "text/html": "<div>\n<style scoped>\n    .dataframe tbody tr th:only-of-type {\n        vertical-align: middle;\n    }\n\n    .dataframe tbody tr th {\n        vertical-align: top;\n    }\n\n    .dataframe thead th {\n        text-align: right;\n    }\n</style>\n<table border=\"1\" class=\"dataframe\">\n  <thead>\n    <tr style=\"text-align: right;\">\n      <th></th>\n      <th>Patient_ID</th>\n      <th>Measurement_date</th>\n      <th>Measurement_time</th>\n      <th>Measurement</th>\n      <th>Time</th>\n    </tr>\n  </thead>\n  <tbody>\n    <tr>\n      <th>0</th>\n      <td>LIB193263</td>\n      <td>2020-06-09</td>\n      <td>19:08:00</td>\n      <td>99</td>\n      <td>2020-06-09 19:08:00</td>\n    </tr>\n    <tr>\n      <th>1</th>\n      <td>LIB193263</td>\n      <td>2020-06-09</td>\n      <td>19:23:00</td>\n      <td>92</td>\n      <td>2020-06-09 19:23:00</td>\n    </tr>\n    <tr>\n      <th>2</th>\n      <td>LIB193263</td>\n      <td>2020-06-09</td>\n      <td>19:38:00</td>\n      <td>86</td>\n      <td>2020-06-09 19:38:00</td>\n    </tr>\n    <tr>\n      <th>3</th>\n      <td>LIB193263</td>\n      <td>2020-06-09</td>\n      <td>19:53:00</td>\n      <td>85</td>\n      <td>2020-06-09 19:53:00</td>\n    </tr>\n    <tr>\n      <th>4</th>\n      <td>LIB193263</td>\n      <td>2020-06-09</td>\n      <td>20:08:00</td>\n      <td>85</td>\n      <td>2020-06-09 20:08:00</td>\n    </tr>\n    <tr>\n      <th>...</th>\n      <td>...</td>\n      <td>...</td>\n      <td>...</td>\n      <td>...</td>\n      <td>...</td>\n    </tr>\n    <tr>\n      <th>2999995</th>\n      <td>LIB193424</td>\n      <td>2022-01-02</td>\n      <td>01:05:00</td>\n      <td>207</td>\n      <td>2022-01-02 01:05:00</td>\n    </tr>\n    <tr>\n      <th>2999996</th>\n      <td>LIB193424</td>\n      <td>2022-01-02</td>\n      <td>01:20:00</td>\n      <td>215</td>\n      <td>2022-01-02 01:20:00</td>\n    </tr>\n    <tr>\n      <th>2999997</th>\n      <td>LIB193424</td>\n      <td>2022-01-02</td>\n      <td>01:35:00</td>\n      <td>218</td>\n      <td>2022-01-02 01:35:00</td>\n    </tr>\n    <tr>\n      <th>2999998</th>\n      <td>LIB193424</td>\n      <td>2022-01-02</td>\n      <td>01:50:00</td>\n      <td>222</td>\n      <td>2022-01-02 01:50:00</td>\n    </tr>\n    <tr>\n      <th>2999999</th>\n      <td>LIB193424</td>\n      <td>2022-01-02</td>\n      <td>02:05:00</td>\n      <td>220</td>\n      <td>2022-01-02 02:05:00</td>\n    </tr>\n  </tbody>\n</table>\n<p>3000000 rows × 5 columns</p>\n</div>"
     },
     "execution_count": 194,
     "metadata": {},
     "output_type": "execute_result"
    }
   ],
   "source": [
    "complete_df_glucose"
   ],
   "metadata": {
    "collapsed": false
   }
  },
  {
   "cell_type": "code",
   "execution_count": 195,
   "outputs": [
    {
     "data": {
      "text/plain": "3000000"
     },
     "execution_count": 195,
     "metadata": {},
     "output_type": "execute_result"
    }
   ],
   "source": [
    "df_glucose_lag.shape[0]"
   ],
   "metadata": {
    "collapsed": false
   }
  },
  {
   "cell_type": "markdown",
   "source": [
    "# Identification of Duplicated Samples\n",
    "## Context\n",
    "Duplicated samples are duplicated rows\n"
   ],
   "metadata": {
    "collapsed": false
   }
  },
  {
   "cell_type": "code",
   "execution_count": 196,
   "outputs": [
    {
     "data": {
      "text/plain": "0"
     },
     "execution_count": 196,
     "metadata": {},
     "output_type": "execute_result"
    }
   ],
   "source": [
    "duplicated = df_glucose_lag.duplicated().sum()\n",
    "duplicated"
   ],
   "metadata": {
    "collapsed": false
   }
  },
  {
   "cell_type": "markdown",
   "source": [
    "# Outliers 1\n",
    "## Context\n",
    "Probably, a good idea for working outliers is analyzed 15 minutes changes in\n",
    "BG values.\n",
    "## Idea\n",
    "Delete rows with time difference about 15 minutes and absurd BG values changes\n"
   ],
   "metadata": {
    "collapsed": false
   }
  },
  {
   "cell_type": "markdown",
   "source": [
    "We can consider an upper bound considering possible delays i.e. 15 minutes + 3 minutes.\n",
    "About lower bound, we can think if 100 BG differences is an extreme change for\n",
    "15 minutes, for less time it would be more extraordinary and more\n",
    "probable to be an outlier.\n"
   ],
   "metadata": {
    "collapsed": false
   }
  },
  {
   "cell_type": "code",
   "execution_count": 197,
   "outputs": [
    {
     "data": {
      "text/plain": "2973284"
     },
     "execution_count": 197,
     "metadata": {},
     "output_type": "execute_result"
    }
   ],
   "source": [
    "## Getting BG differences only for consecutive (15 min + delay) values\n",
    "df_glucose_no_gaps = df_glucose_lag[ (df_glucose_lag[\"Minutes_diff\"] < 18.0)]\n",
    "df_glucose_no_gaps.shape[0]"
   ],
   "metadata": {
    "collapsed": false
   }
  },
  {
   "cell_type": "code",
   "execution_count": 198,
   "outputs": [
    {
     "data": {
      "text/plain": "        Patient_ID Measurement_date Measurement_time  Measurement  \\\n91140    LIB193265       2019-06-20         08:12:00          245   \n136903   LIB193266       2020-11-14         12:42:00          233   \n136904   LIB193266       2020-11-14         12:42:00          108   \n136905   LIB193266       2020-11-14         12:57:00          259   \n138323   LIB193266       2020-11-30         11:41:00          141   \n...            ...              ...              ...          ...   \n2918552  LIB193416       2022-03-07         11:04:00          214   \n2918553  LIB193416       2022-03-07         11:14:00           86   \n2918554  LIB193416       2022-03-07         11:20:00          210   \n2918555  LIB193416       2022-03-07         11:30:00           74   \n2918556  LIB193416       2022-03-07         11:35:00          217   \n\n                          t                 t-1  Minutes_diff  Measurement-1  \\\n91140   2019-06-20 08:12:00 2019-06-20 07:56:00     16.000000     349.000000   \n136903  2020-11-14 12:42:00 2020-11-14 12:27:00     15.000000     102.000000   \n136904  2020-11-14 12:42:00 2020-11-14 12:42:00      0.000000     233.000000   \n136905  2020-11-14 12:57:00 2020-11-14 12:42:00     15.000000     108.000000   \n138323  2020-11-30 11:41:00 2020-11-30 11:27:00     14.000000     300.000000   \n...                     ...                 ...           ...            ...   \n2918552 2022-03-07 11:04:00 2022-03-07 10:59:00      5.000000      99.000000   \n2918553 2022-03-07 11:14:00 2022-03-07 11:04:00     10.000000     214.000000   \n2918554 2022-03-07 11:20:00 2022-03-07 11:14:00      6.000000      86.000000   \n2918555 2022-03-07 11:30:00 2022-03-07 11:20:00     10.000000     210.000000   \n2918556 2022-03-07 11:35:00 2022-03-07 11:30:00      5.000000      74.000000   \n\n         Measurement_diff  \n91140          104.000000  \n136903         131.000000  \n136904         125.000000  \n136905         151.000000  \n138323         159.000000  \n...                   ...  \n2918552        115.000000  \n2918553        128.000000  \n2918554        124.000000  \n2918555        136.000000  \n2918556        143.000000  \n\n[5461 rows x 9 columns]",
      "text/html": "<div>\n<style scoped>\n    .dataframe tbody tr th:only-of-type {\n        vertical-align: middle;\n    }\n\n    .dataframe tbody tr th {\n        vertical-align: top;\n    }\n\n    .dataframe thead th {\n        text-align: right;\n    }\n</style>\n<table border=\"1\" class=\"dataframe\">\n  <thead>\n    <tr style=\"text-align: right;\">\n      <th></th>\n      <th>Patient_ID</th>\n      <th>Measurement_date</th>\n      <th>Measurement_time</th>\n      <th>Measurement</th>\n      <th>t</th>\n      <th>t-1</th>\n      <th>Minutes_diff</th>\n      <th>Measurement-1</th>\n      <th>Measurement_diff</th>\n    </tr>\n  </thead>\n  <tbody>\n    <tr>\n      <th>91140</th>\n      <td>LIB193265</td>\n      <td>2019-06-20</td>\n      <td>08:12:00</td>\n      <td>245</td>\n      <td>2019-06-20 08:12:00</td>\n      <td>2019-06-20 07:56:00</td>\n      <td>16.000000</td>\n      <td>349.000000</td>\n      <td>104.000000</td>\n    </tr>\n    <tr>\n      <th>136903</th>\n      <td>LIB193266</td>\n      <td>2020-11-14</td>\n      <td>12:42:00</td>\n      <td>233</td>\n      <td>2020-11-14 12:42:00</td>\n      <td>2020-11-14 12:27:00</td>\n      <td>15.000000</td>\n      <td>102.000000</td>\n      <td>131.000000</td>\n    </tr>\n    <tr>\n      <th>136904</th>\n      <td>LIB193266</td>\n      <td>2020-11-14</td>\n      <td>12:42:00</td>\n      <td>108</td>\n      <td>2020-11-14 12:42:00</td>\n      <td>2020-11-14 12:42:00</td>\n      <td>0.000000</td>\n      <td>233.000000</td>\n      <td>125.000000</td>\n    </tr>\n    <tr>\n      <th>136905</th>\n      <td>LIB193266</td>\n      <td>2020-11-14</td>\n      <td>12:57:00</td>\n      <td>259</td>\n      <td>2020-11-14 12:57:00</td>\n      <td>2020-11-14 12:42:00</td>\n      <td>15.000000</td>\n      <td>108.000000</td>\n      <td>151.000000</td>\n    </tr>\n    <tr>\n      <th>138323</th>\n      <td>LIB193266</td>\n      <td>2020-11-30</td>\n      <td>11:41:00</td>\n      <td>141</td>\n      <td>2020-11-30 11:41:00</td>\n      <td>2020-11-30 11:27:00</td>\n      <td>14.000000</td>\n      <td>300.000000</td>\n      <td>159.000000</td>\n    </tr>\n    <tr>\n      <th>...</th>\n      <td>...</td>\n      <td>...</td>\n      <td>...</td>\n      <td>...</td>\n      <td>...</td>\n      <td>...</td>\n      <td>...</td>\n      <td>...</td>\n      <td>...</td>\n    </tr>\n    <tr>\n      <th>2918552</th>\n      <td>LIB193416</td>\n      <td>2022-03-07</td>\n      <td>11:04:00</td>\n      <td>214</td>\n      <td>2022-03-07 11:04:00</td>\n      <td>2022-03-07 10:59:00</td>\n      <td>5.000000</td>\n      <td>99.000000</td>\n      <td>115.000000</td>\n    </tr>\n    <tr>\n      <th>2918553</th>\n      <td>LIB193416</td>\n      <td>2022-03-07</td>\n      <td>11:14:00</td>\n      <td>86</td>\n      <td>2022-03-07 11:14:00</td>\n      <td>2022-03-07 11:04:00</td>\n      <td>10.000000</td>\n      <td>214.000000</td>\n      <td>128.000000</td>\n    </tr>\n    <tr>\n      <th>2918554</th>\n      <td>LIB193416</td>\n      <td>2022-03-07</td>\n      <td>11:20:00</td>\n      <td>210</td>\n      <td>2022-03-07 11:20:00</td>\n      <td>2022-03-07 11:14:00</td>\n      <td>6.000000</td>\n      <td>86.000000</td>\n      <td>124.000000</td>\n    </tr>\n    <tr>\n      <th>2918555</th>\n      <td>LIB193416</td>\n      <td>2022-03-07</td>\n      <td>11:30:00</td>\n      <td>74</td>\n      <td>2022-03-07 11:30:00</td>\n      <td>2022-03-07 11:20:00</td>\n      <td>10.000000</td>\n      <td>210.000000</td>\n      <td>136.000000</td>\n    </tr>\n    <tr>\n      <th>2918556</th>\n      <td>LIB193416</td>\n      <td>2022-03-07</td>\n      <td>11:35:00</td>\n      <td>217</td>\n      <td>2022-03-07 11:35:00</td>\n      <td>2022-03-07 11:30:00</td>\n      <td>5.000000</td>\n      <td>74.000000</td>\n      <td>143.000000</td>\n    </tr>\n  </tbody>\n</table>\n<p>5461 rows × 9 columns</p>\n</div>"
     },
     "execution_count": 198,
     "metadata": {},
     "output_type": "execute_result"
    }
   ],
   "source": [
    "# Getting number of outliers (BG diff > 100 mg/dL) fo consecutive measurements\n",
    "df_glucose_outliers = df_glucose_no_gaps[df_glucose_no_gaps['Measurement_diff'] > 100.0]\n",
    "df_glucose_outliers"
   ],
   "metadata": {
    "collapsed": false
   }
  },
  {
   "cell_type": "code",
   "execution_count": 199,
   "outputs": [
    {
     "data": {
      "text/plain": "5461"
     },
     "execution_count": 199,
     "metadata": {},
     "output_type": "execute_result"
    }
   ],
   "source": [
    "df_glucose_outliers.shape[0]"
   ],
   "metadata": {
    "collapsed": false
   }
  },
  {
   "cell_type": "code",
   "execution_count": 200,
   "outputs": [
    {
     "data": {
      "text/plain": "0.0018203333333333333"
     },
     "execution_count": 200,
     "metadata": {},
     "output_type": "execute_result"
    }
   ],
   "source": [
    "# Calculating the representation of the outliers in the complete dataset\n",
    "outliers_representation = df_glucose_outliers.shape[0] / df_glucose.shape[0]\n",
    "outliers_representation\n"
   ],
   "metadata": {
    "collapsed": false
   }
  },
  {
   "cell_type": "markdown",
   "source": [
    "## Checking if medical assumptions (100 mg/dL) has correspondence to our data"
   ],
   "metadata": {
    "collapsed": false
   }
  },
  {
   "cell_type": "code",
   "execution_count": 201,
   "outputs": [
    {
     "data": {
      "text/plain": "         Measurement   Minutes_diff  Measurement-1  Measurement_diff\ncount 2973284.000000 2973284.000000 2973284.000000    2973284.000000\nmean      158.893065      14.771750     158.946504          9.424736\nstd        65.388476       1.639832      65.401646         11.440756\nmin        40.000000       0.000000      40.000000          0.000000\n25%       110.000000      15.000000     110.000000          3.000000\n50%       148.000000      15.000000     148.000000          6.000000\n75%       197.000000      15.000000     197.000000         12.000000\nmax       500.000000      17.000000     500.000000        355.000000",
      "text/html": "<div>\n<style scoped>\n    .dataframe tbody tr th:only-of-type {\n        vertical-align: middle;\n    }\n\n    .dataframe tbody tr th {\n        vertical-align: top;\n    }\n\n    .dataframe thead th {\n        text-align: right;\n    }\n</style>\n<table border=\"1\" class=\"dataframe\">\n  <thead>\n    <tr style=\"text-align: right;\">\n      <th></th>\n      <th>Measurement</th>\n      <th>Minutes_diff</th>\n      <th>Measurement-1</th>\n      <th>Measurement_diff</th>\n    </tr>\n  </thead>\n  <tbody>\n    <tr>\n      <th>count</th>\n      <td>2973284.000000</td>\n      <td>2973284.000000</td>\n      <td>2973284.000000</td>\n      <td>2973284.000000</td>\n    </tr>\n    <tr>\n      <th>mean</th>\n      <td>158.893065</td>\n      <td>14.771750</td>\n      <td>158.946504</td>\n      <td>9.424736</td>\n    </tr>\n    <tr>\n      <th>std</th>\n      <td>65.388476</td>\n      <td>1.639832</td>\n      <td>65.401646</td>\n      <td>11.440756</td>\n    </tr>\n    <tr>\n      <th>min</th>\n      <td>40.000000</td>\n      <td>0.000000</td>\n      <td>40.000000</td>\n      <td>0.000000</td>\n    </tr>\n    <tr>\n      <th>25%</th>\n      <td>110.000000</td>\n      <td>15.000000</td>\n      <td>110.000000</td>\n      <td>3.000000</td>\n    </tr>\n    <tr>\n      <th>50%</th>\n      <td>148.000000</td>\n      <td>15.000000</td>\n      <td>148.000000</td>\n      <td>6.000000</td>\n    </tr>\n    <tr>\n      <th>75%</th>\n      <td>197.000000</td>\n      <td>15.000000</td>\n      <td>197.000000</td>\n      <td>12.000000</td>\n    </tr>\n    <tr>\n      <th>max</th>\n      <td>500.000000</td>\n      <td>17.000000</td>\n      <td>500.000000</td>\n      <td>355.000000</td>\n    </tr>\n  </tbody>\n</table>\n</div>"
     },
     "execution_count": 201,
     "metadata": {},
     "output_type": "execute_result"
    }
   ],
   "source": [
    "df_glucose_no_gaps.describe()"
   ],
   "metadata": {
    "collapsed": false
   }
  },
  {
   "cell_type": "code",
   "execution_count": 202,
   "outputs": [
    {
     "data": {
      "text/plain": "          Measurement  Minutes_diff  Measurement-1  Measurement_diff\n0.250000   110.000000     15.000000     110.000000          3.000000\n0.500000   148.000000     15.000000     148.000000          6.000000\n0.750000   197.000000     15.000000     197.000000         12.000000\n0.850000   227.000000     15.000000     227.000000         17.000000\n0.900000   248.000000     15.000000     248.000000         21.000000\n0.950000   281.000000     15.000000     281.000000         28.000000\n0.990000   350.000000     16.000000     350.000000         48.000000\n0.995000   379.000000     17.000000     379.000000         60.000000\n0.997500   407.000000     17.000000     407.000000         85.000000\n0.998000   416.000000     17.000000     416.000000         96.000000",
      "text/html": "<div>\n<style scoped>\n    .dataframe tbody tr th:only-of-type {\n        vertical-align: middle;\n    }\n\n    .dataframe tbody tr th {\n        vertical-align: top;\n    }\n\n    .dataframe thead th {\n        text-align: right;\n    }\n</style>\n<table border=\"1\" class=\"dataframe\">\n  <thead>\n    <tr style=\"text-align: right;\">\n      <th></th>\n      <th>Measurement</th>\n      <th>Minutes_diff</th>\n      <th>Measurement-1</th>\n      <th>Measurement_diff</th>\n    </tr>\n  </thead>\n  <tbody>\n    <tr>\n      <th>0.250000</th>\n      <td>110.000000</td>\n      <td>15.000000</td>\n      <td>110.000000</td>\n      <td>3.000000</td>\n    </tr>\n    <tr>\n      <th>0.500000</th>\n      <td>148.000000</td>\n      <td>15.000000</td>\n      <td>148.000000</td>\n      <td>6.000000</td>\n    </tr>\n    <tr>\n      <th>0.750000</th>\n      <td>197.000000</td>\n      <td>15.000000</td>\n      <td>197.000000</td>\n      <td>12.000000</td>\n    </tr>\n    <tr>\n      <th>0.850000</th>\n      <td>227.000000</td>\n      <td>15.000000</td>\n      <td>227.000000</td>\n      <td>17.000000</td>\n    </tr>\n    <tr>\n      <th>0.900000</th>\n      <td>248.000000</td>\n      <td>15.000000</td>\n      <td>248.000000</td>\n      <td>21.000000</td>\n    </tr>\n    <tr>\n      <th>0.950000</th>\n      <td>281.000000</td>\n      <td>15.000000</td>\n      <td>281.000000</td>\n      <td>28.000000</td>\n    </tr>\n    <tr>\n      <th>0.990000</th>\n      <td>350.000000</td>\n      <td>16.000000</td>\n      <td>350.000000</td>\n      <td>48.000000</td>\n    </tr>\n    <tr>\n      <th>0.995000</th>\n      <td>379.000000</td>\n      <td>17.000000</td>\n      <td>379.000000</td>\n      <td>60.000000</td>\n    </tr>\n    <tr>\n      <th>0.997500</th>\n      <td>407.000000</td>\n      <td>17.000000</td>\n      <td>407.000000</td>\n      <td>85.000000</td>\n    </tr>\n    <tr>\n      <th>0.998000</th>\n      <td>416.000000</td>\n      <td>17.000000</td>\n      <td>416.000000</td>\n      <td>96.000000</td>\n    </tr>\n  </tbody>\n</table>\n</div>"
     },
     "execution_count": 202,
     "metadata": {},
     "output_type": "execute_result"
    }
   ],
   "source": [
    "df_glucose_no_gaps.quantile([.25,.50,.75,.85,.90,.95,.99,.995,.9975,.998])"
   ],
   "metadata": {
    "collapsed": false
   }
  },
  {
   "cell_type": "markdown",
   "source": [
    "# Outliers 2\n",
    "\n",
    "## Remove outliers based on isolated extreme value. Not done bc important information would be removed."
   ],
   "metadata": {
    "collapsed": false
   }
  },
  {
   "cell_type": "code",
   "execution_count": 203,
   "outputs": [
    {
     "data": {
      "text/plain": "[Text(0.5, 1.0, 'BG values histogram')]"
     },
     "execution_count": 203,
     "metadata": {},
     "output_type": "execute_result"
    },
    {
     "data": {
      "text/plain": "<Figure size 432x288 with 1 Axes>",
      "image/png": "[encoded data removed]"
     },
     "metadata": {},
     "output_type": "display_data"
    }
   ],
   "source": [
    "# Histogram\n",
    "\n",
    "sns.histplot(data=df_glucose, x=\"Measurement\", bins=15).set(title='BG values histogram')"
   ],
   "metadata": {
    "collapsed": false
   }
  },
  {
   "cell_type": "markdown",
   "source": [
    "# Resampling"
   ],
   "metadata": {
    "collapsed": false
   }
  },
  {
   "cell_type": "markdown",
   "source": [
    "## Multiple Measurements in the Same Interval (Downsampling)\n",
    "The idea is to consider intervals of 15 minutes. Each interval of 15 minutes should have only one measurement, so\n",
    "inside each interval only one value will be selected"
   ],
   "metadata": {
    "collapsed": false
   }
  },
  {
   "cell_type": "code",
   "execution_count": 204,
   "outputs": [],
   "source": [
    "# Added an index col\n",
    "df_glucose_lag['index'] = df_glucose_lag.index"
   ],
   "metadata": {
    "collapsed": false
   }
  },
  {
   "cell_type": "markdown",
   "source": [
    "Not all the samples have the same frequency: There are variations in sampling i.e. 16 minutes instead of 15 minutes.\n",
    "For this reason, it is not possible to generate all intervals based on the first sample of each patient.\n",
    "Each time the frequency change, the start point of the intervals should be restarted.\n",
    "\n",
    "Example:\n",
    "\n",
    "The ranges are divided by --------------------\n",
    "\n",
    "Minutes_diff     Measurement\n",
    "\n",
    "Nan                 65              Start point\n",
    "\n",
    "-----------------------------------------------------\n",
    "\n",
    "15                  70\n",
    "\n",
    "5                   72\n",
    "\n",
    "-----------------------------------------------------\n",
    "\n",
    "10                  75\n",
    "\n",
    "-----------------------------------------------------\n",
    "\n",
    "16                  90              At this point the start point is restarted"
   ],
   "metadata": {
    "collapsed": false
   }
  },
  {
   "cell_type": "markdown",
   "source": [
    "The indexes where the frequency change are calculated below"
   ],
   "metadata": {
    "collapsed": false
   }
  },
  {
   "cell_type": "code",
   "execution_count": 207,
   "outputs": [
    {
     "data": {
      "text/plain": "Int64Index([      0,      59,     211,     279,     387,     474,     499,\n                564,     594,     653,\n            ...\n            2999896, 2999905, 2999941, 2999948, 2999954, 2999965, 2999973,\n            2999985, 2999989, 2999992],\n           dtype='int64', length=167201)"
     },
     "execution_count": 207,
     "metadata": {},
     "output_type": "execute_result"
    }
   ],
   "source": [
    "frequency_variations_indexes = df_glucose_lag[(df_glucose_lag['Minutes_diff'] > 15) | (df_glucose_lag['Minutes_diff'].isna())].index\n",
    "frequency_variations_indexes"
   ],
   "metadata": {
    "collapsed": false
   }
  },
  {
   "cell_type": "markdown",
   "source": [
    "A new column is added to represent the frequency set of each sample"
   ],
   "metadata": {
    "collapsed": false
   }
  },
  {
   "cell_type": "code",
   "execution_count": 210,
   "outputs": [
    {
     "data": {
      "text/plain": "        Patient_ID Measurement_date Measurement_time  Measurement  \\\n0        LIB193263       2020-06-09         19:08:00           99   \n1        LIB193263       2020-06-09         19:23:00           92   \n2        LIB193263       2020-06-09         19:38:00           86   \n3        LIB193263       2020-06-09         19:53:00           85   \n4        LIB193263       2020-06-09         20:08:00           85   \n...            ...              ...              ...          ...   \n2999995  LIB193424       2022-01-02         01:05:00          207   \n2999996  LIB193424       2022-01-02         01:20:00          215   \n2999997  LIB193424       2022-01-02         01:35:00          218   \n2999998  LIB193424       2022-01-02         01:50:00          222   \n2999999  LIB193424       2022-01-02         02:05:00          220   \n\n                          t                 t-1  Minutes_diff  Measurement-1  \\\n0       2020-06-09 19:08:00                 NaT           NaN            NaN   \n1       2020-06-09 19:23:00 2020-06-09 19:08:00     15.000000      99.000000   \n2       2020-06-09 19:38:00 2020-06-09 19:23:00     15.000000      92.000000   \n3       2020-06-09 19:53:00 2020-06-09 19:38:00     15.000000      86.000000   \n4       2020-06-09 20:08:00 2020-06-09 19:53:00     15.000000      85.000000   \n...                     ...                 ...           ...            ...   \n2999995 2022-01-02 01:05:00 2022-01-02 00:50:00     15.000000     186.000000   \n2999996 2022-01-02 01:20:00 2022-01-02 01:05:00     15.000000     207.000000   \n2999997 2022-01-02 01:35:00 2022-01-02 01:20:00     15.000000     215.000000   \n2999998 2022-01-02 01:50:00 2022-01-02 01:35:00     15.000000     218.000000   \n2999999 2022-01-02 02:05:00 2022-01-02 01:50:00     15.000000     222.000000   \n\n         Measurement_diff    index  Frequency  \n0                     NaN        0          1  \n1                7.000000        1          1  \n2                6.000000        2          1  \n3                1.000000        3          1  \n4                0.000000        4          1  \n...                   ...      ...        ...  \n2999995         21.000000  2999995     167201  \n2999996          8.000000  2999996     167201  \n2999997          3.000000  2999997     167201  \n2999998          4.000000  2999998     167201  \n2999999          2.000000  2999999     167201  \n\n[3000000 rows x 11 columns]",
      "text/html": "<div>\n<style scoped>\n    .dataframe tbody tr th:only-of-type {\n        vertical-align: middle;\n    }\n\n    .dataframe tbody tr th {\n        vertical-align: top;\n    }\n\n    .dataframe thead th {\n        text-align: right;\n    }\n</style>\n<table border=\"1\" class=\"dataframe\">\n  <thead>\n    <tr style=\"text-align: right;\">\n      <th></th>\n      <th>Patient_ID</th>\n      <th>Measurement_date</th>\n      <th>Measurement_time</th>\n      <th>Measurement</th>\n      <th>t</th>\n      <th>t-1</th>\n      <th>Minutes_diff</th>\n      <th>Measurement-1</th>\n      <th>Measurement_diff</th>\n      <th>index</th>\n      <th>Frequency</th>\n    </tr>\n  </thead>\n  <tbody>\n    <tr>\n      <th>0</th>\n      <td>LIB193263</td>\n      <td>2020-06-09</td>\n      <td>19:08:00</td>\n      <td>99</td>\n      <td>2020-06-09 19:08:00</td>\n      <td>NaT</td>\n      <td>NaN</td>\n      <td>NaN</td>\n      <td>NaN</td>\n      <td>0</td>\n      <td>1</td>\n    </tr>\n    <tr>\n      <th>1</th>\n      <td>LIB193263</td>\n      <td>2020-06-09</td>\n      <td>19:23:00</td>\n      <td>92</td>\n      <td>2020-06-09 19:23:00</td>\n      <td>2020-06-09 19:08:00</td>\n      <td>15.000000</td>\n      <td>99.000000</td>\n      <td>7.000000</td>\n      <td>1</td>\n      <td>1</td>\n    </tr>\n    <tr>\n      <th>2</th>\n      <td>LIB193263</td>\n      <td>2020-06-09</td>\n      <td>19:38:00</td>\n      <td>86</td>\n      <td>2020-06-09 19:38:00</td>\n      <td>2020-06-09 19:23:00</td>\n      <td>15.000000</td>\n      <td>92.000000</td>\n      <td>6.000000</td>\n      <td>2</td>\n      <td>1</td>\n    </tr>\n    <tr>\n      <th>3</th>\n      <td>LIB193263</td>\n      <td>2020-06-09</td>\n      <td>19:53:00</td>\n      <td>85</td>\n      <td>2020-06-09 19:53:00</td>\n      <td>2020-06-09 19:38:00</td>\n      <td>15.000000</td>\n      <td>86.000000</td>\n      <td>1.000000</td>\n      <td>3</td>\n      <td>1</td>\n    </tr>\n    <tr>\n      <th>4</th>\n      <td>LIB193263</td>\n      <td>2020-06-09</td>\n      <td>20:08:00</td>\n      <td>85</td>\n      <td>2020-06-09 20:08:00</td>\n      <td>2020-06-09 19:53:00</td>\n      <td>15.000000</td>\n      <td>85.000000</td>\n      <td>0.000000</td>\n      <td>4</td>\n      <td>1</td>\n    </tr>\n    <tr>\n      <th>...</th>\n      <td>...</td>\n      <td>...</td>\n      <td>...</td>\n      <td>...</td>\n      <td>...</td>\n      <td>...</td>\n      <td>...</td>\n      <td>...</td>\n      <td>...</td>\n      <td>...</td>\n      <td>...</td>\n    </tr>\n    <tr>\n      <th>2999995</th>\n      <td>LIB193424</td>\n      <td>2022-01-02</td>\n      <td>01:05:00</td>\n      <td>207</td>\n      <td>2022-01-02 01:05:00</td>\n      <td>2022-01-02 00:50:00</td>\n      <td>15.000000</td>\n      <td>186.000000</td>\n      <td>21.000000</td>\n      <td>2999995</td>\n      <td>167201</td>\n    </tr>\n    <tr>\n      <th>2999996</th>\n      <td>LIB193424</td>\n      <td>2022-01-02</td>\n      <td>01:20:00</td>\n      <td>215</td>\n      <td>2022-01-02 01:20:00</td>\n      <td>2022-01-02 01:05:00</td>\n      <td>15.000000</td>\n      <td>207.000000</td>\n      <td>8.000000</td>\n      <td>2999996</td>\n      <td>167201</td>\n    </tr>\n    <tr>\n      <th>2999997</th>\n      <td>LIB193424</td>\n      <td>2022-01-02</td>\n      <td>01:35:00</td>\n      <td>218</td>\n      <td>2022-01-02 01:35:00</td>\n      <td>2022-01-02 01:20:00</td>\n      <td>15.000000</td>\n      <td>215.000000</td>\n      <td>3.000000</td>\n      <td>2999997</td>\n      <td>167201</td>\n    </tr>\n    <tr>\n      <th>2999998</th>\n      <td>LIB193424</td>\n      <td>2022-01-02</td>\n      <td>01:50:00</td>\n      <td>222</td>\n      <td>2022-01-02 01:50:00</td>\n      <td>2022-01-02 01:35:00</td>\n      <td>15.000000</td>\n      <td>218.000000</td>\n      <td>4.000000</td>\n      <td>2999998</td>\n      <td>167201</td>\n    </tr>\n    <tr>\n      <th>2999999</th>\n      <td>LIB193424</td>\n      <td>2022-01-02</td>\n      <td>02:05:00</td>\n      <td>220</td>\n      <td>2022-01-02 02:05:00</td>\n      <td>2022-01-02 01:50:00</td>\n      <td>15.000000</td>\n      <td>222.000000</td>\n      <td>2.000000</td>\n      <td>2999999</td>\n      <td>167201</td>\n    </tr>\n  </tbody>\n</table>\n<p>3000000 rows × 11 columns</p>\n</div>"
     },
     "execution_count": 210,
     "metadata": {},
     "output_type": "execute_result"
    }
   ],
   "source": [
    "def find_index_position(indexes_list, index):\n",
    "    \"\"\"\n",
    "    :return: Position + 1 of the index in ordered indexs_list\n",
    "    \"\"\"\n",
    "    return np.searchsorted(indexes_list, index, 'right')\n",
    "\n",
    "# Compute the positions of each value in the `index` column relative to `frequency_variations`\n",
    "positions = find_index_position(frequency_variations_indexes, df_glucose_lag['index'])\n",
    "\n",
    "df_glucose_lag['Frequency'] = positions\n",
    "df_glucose_lag"
   ],
   "metadata": {
    "collapsed": false
   }
  },
  {
   "cell_type": "markdown",
   "source": [
    "Now we know the frequency changes, it is possible to do the downsampling process\n",
    "For each group of measurements in the same Interval, the mean of all of them is selected as the new and unique value for this range."
   ],
   "metadata": {
    "collapsed": false
   }
  },
  {
   "cell_type": "code",
   "execution_count": 245,
   "outputs": [
    {
     "data": {
      "text/plain": "                                          Measurement  Minutes_diff  \\\nPatient_ID Frequency t                                                \nLIB193263  1         2020-06-09 19:00:00    99.000000           NaN   \n                     2020-06-09 19:15:00    92.000000     15.000000   \n                     2020-06-09 19:30:00    86.000000     15.000000   \n                     2020-06-09 19:45:00    85.000000     15.000000   \n                     2020-06-09 20:00:00    85.000000     15.000000   \n...                                               ...           ...   \nLIB193424  167201    2022-01-02 01:00:00   207.000000     15.000000   \n                     2022-01-02 01:15:00   215.000000     15.000000   \n                     2022-01-02 01:30:00   218.000000     15.000000   \n                     2022-01-02 01:45:00   222.000000     15.000000   \n                     2022-01-02 02:00:00   220.000000     15.000000   \n\n                                          Measurement-1  Measurement_diff  \\\nPatient_ID Frequency t                                                      \nLIB193263  1         2020-06-09 19:00:00            NaN               NaN   \n                     2020-06-09 19:15:00      99.000000          7.000000   \n                     2020-06-09 19:30:00      92.000000          6.000000   \n                     2020-06-09 19:45:00      86.000000          1.000000   \n                     2020-06-09 20:00:00      85.000000          0.000000   \n...                                                 ...               ...   \nLIB193424  167201    2022-01-02 01:00:00     186.000000         21.000000   \n                     2022-01-02 01:15:00     207.000000          8.000000   \n                     2022-01-02 01:30:00     215.000000          3.000000   \n                     2022-01-02 01:45:00     218.000000          4.000000   \n                     2022-01-02 02:00:00     222.000000          2.000000   \n\n                                                  index     Frequency  \nPatient_ID Frequency t                                                 \nLIB193263  1         2020-06-09 19:00:00       0.000000      1.000000  \n                     2020-06-09 19:15:00       1.000000      1.000000  \n                     2020-06-09 19:30:00       2.000000      1.000000  \n                     2020-06-09 19:45:00       3.000000      1.000000  \n                     2020-06-09 20:00:00       4.000000      1.000000  \n...                                                 ...           ...  \nLIB193424  167201    2022-01-02 01:00:00 2999995.000000 167201.000000  \n                     2022-01-02 01:15:00 2999996.000000 167201.000000  \n                     2022-01-02 01:30:00 2999997.000000 167201.000000  \n                     2022-01-02 01:45:00 2999998.000000 167201.000000  \n                     2022-01-02 02:00:00 2999999.000000 167201.000000  \n\n[2943964 rows x 6 columns]",
      "text/html": "<div>\n<style scoped>\n    .dataframe tbody tr th:only-of-type {\n        vertical-align: middle;\n    }\n\n    .dataframe tbody tr th {\n        vertical-align: top;\n    }\n\n    .dataframe thead th {\n        text-align: right;\n    }\n</style>\n<table border=\"1\" class=\"dataframe\">\n  <thead>\n    <tr style=\"text-align: right;\">\n      <th></th>\n      <th></th>\n      <th></th>\n      <th>Measurement</th>\n      <th>Minutes_diff</th>\n      <th>Measurement-1</th>\n      <th>Measurement_diff</th>\n      <th>index</th>\n      <th>Frequency</th>\n    </tr>\n    <tr>\n      <th>Patient_ID</th>\n      <th>Frequency</th>\n      <th>t</th>\n      <th></th>\n      <th></th>\n      <th></th>\n      <th></th>\n      <th></th>\n      <th></th>\n    </tr>\n  </thead>\n  <tbody>\n    <tr>\n      <th rowspan=\"5\" valign=\"top\">LIB193263</th>\n      <th rowspan=\"5\" valign=\"top\">1</th>\n      <th>2020-06-09 19:00:00</th>\n      <td>99.000000</td>\n      <td>NaN</td>\n      <td>NaN</td>\n      <td>NaN</td>\n      <td>0.000000</td>\n      <td>1.000000</td>\n    </tr>\n    <tr>\n      <th>2020-06-09 19:15:00</th>\n      <td>92.000000</td>\n      <td>15.000000</td>\n      <td>99.000000</td>\n      <td>7.000000</td>\n      <td>1.000000</td>\n      <td>1.000000</td>\n    </tr>\n    <tr>\n      <th>2020-06-09 19:30:00</th>\n      <td>86.000000</td>\n      <td>15.000000</td>\n      <td>92.000000</td>\n      <td>6.000000</td>\n      <td>2.000000</td>\n      <td>1.000000</td>\n    </tr>\n    <tr>\n      <th>2020-06-09 19:45:00</th>\n      <td>85.000000</td>\n      <td>15.000000</td>\n      <td>86.000000</td>\n      <td>1.000000</td>\n      <td>3.000000</td>\n      <td>1.000000</td>\n    </tr>\n    <tr>\n      <th>2020-06-09 20:00:00</th>\n      <td>85.000000</td>\n      <td>15.000000</td>\n      <td>85.000000</td>\n      <td>0.000000</td>\n      <td>4.000000</td>\n      <td>1.000000</td>\n    </tr>\n    <tr>\n      <th>...</th>\n      <th>...</th>\n      <th>...</th>\n      <td>...</td>\n      <td>...</td>\n      <td>...</td>\n      <td>...</td>\n      <td>...</td>\n      <td>...</td>\n    </tr>\n    <tr>\n      <th rowspan=\"5\" valign=\"top\">LIB193424</th>\n      <th rowspan=\"5\" valign=\"top\">167201</th>\n      <th>2022-01-02 01:00:00</th>\n      <td>207.000000</td>\n      <td>15.000000</td>\n      <td>186.000000</td>\n      <td>21.000000</td>\n      <td>2999995.000000</td>\n      <td>167201.000000</td>\n    </tr>\n    <tr>\n      <th>2022-01-02 01:15:00</th>\n      <td>215.000000</td>\n      <td>15.000000</td>\n      <td>207.000000</td>\n      <td>8.000000</td>\n      <td>2999996.000000</td>\n      <td>167201.000000</td>\n    </tr>\n    <tr>\n      <th>2022-01-02 01:30:00</th>\n      <td>218.000000</td>\n      <td>15.000000</td>\n      <td>215.000000</td>\n      <td>3.000000</td>\n      <td>2999997.000000</td>\n      <td>167201.000000</td>\n    </tr>\n    <tr>\n      <th>2022-01-02 01:45:00</th>\n      <td>222.000000</td>\n      <td>15.000000</td>\n      <td>218.000000</td>\n      <td>4.000000</td>\n      <td>2999998.000000</td>\n      <td>167201.000000</td>\n    </tr>\n    <tr>\n      <th>2022-01-02 02:00:00</th>\n      <td>220.000000</td>\n      <td>15.000000</td>\n      <td>222.000000</td>\n      <td>2.000000</td>\n      <td>2999999.000000</td>\n      <td>167201.000000</td>\n    </tr>\n  </tbody>\n</table>\n<p>2943964 rows × 6 columns</p>\n</div>"
     },
     "execution_count": 245,
     "metadata": {},
     "output_type": "execute_result"
    }
   ],
   "source": [
    "df_glucose_t = df_glucose_lag.set_index('t')\n",
    "#Resampling\n",
    "df_glucose_resampled = df_glucose_t.groupby([\"Patient_ID\",\"Frequency\"]).resample(\"15T\").mean()\n",
    "df_glucose_resampled"
   ],
   "metadata": {
    "collapsed": false
   }
  },
  {
   "cell_type": "code",
   "execution_count": 262,
   "outputs": [
    {
     "data": {
      "text/plain": "                          t Patient_ID  Measurement  Minutes_diff  \\\n0       2020-06-09 19:00:00  LIB193263    99.000000           NaN   \n1       2020-06-09 19:15:00  LIB193263    92.000000     15.000000   \n2       2020-06-09 19:30:00  LIB193263    86.000000     15.000000   \n3       2020-06-09 19:45:00  LIB193263    85.000000     15.000000   \n4       2020-06-09 20:00:00  LIB193263    85.000000     15.000000   \n...                     ...        ...          ...           ...   \n2943959 2022-01-02 01:00:00  LIB193424   207.000000     15.000000   \n2943960 2022-01-02 01:15:00  LIB193424   215.000000     15.000000   \n2943961 2022-01-02 01:30:00  LIB193424   218.000000     15.000000   \n2943962 2022-01-02 01:45:00  LIB193424   222.000000     15.000000   \n2943963 2022-01-02 02:00:00  LIB193424   220.000000     15.000000   \n\n         Measurement-1  Measurement_diff          index     Frequency  \n0                  NaN               NaN       0.000000      1.000000  \n1            99.000000          7.000000       1.000000      1.000000  \n2            92.000000          6.000000       2.000000      1.000000  \n3            86.000000          1.000000       3.000000      1.000000  \n4            85.000000          0.000000       4.000000      1.000000  \n...                ...               ...            ...           ...  \n2943959     186.000000         21.000000 2999995.000000 167201.000000  \n2943960     207.000000          8.000000 2999996.000000 167201.000000  \n2943961     215.000000          3.000000 2999997.000000 167201.000000  \n2943962     218.000000          4.000000 2999998.000000 167201.000000  \n2943963     222.000000          2.000000 2999999.000000 167201.000000  \n\n[2943964 rows x 8 columns]",
      "text/html": "<div>\n<style scoped>\n    .dataframe tbody tr th:only-of-type {\n        vertical-align: middle;\n    }\n\n    .dataframe tbody tr th {\n        vertical-align: top;\n    }\n\n    .dataframe thead th {\n        text-align: right;\n    }\n</style>\n<table border=\"1\" class=\"dataframe\">\n  <thead>\n    <tr style=\"text-align: right;\">\n      <th></th>\n      <th>t</th>\n      <th>Patient_ID</th>\n      <th>Measurement</th>\n      <th>Minutes_diff</th>\n      <th>Measurement-1</th>\n      <th>Measurement_diff</th>\n      <th>index</th>\n      <th>Frequency</th>\n    </tr>\n  </thead>\n  <tbody>\n    <tr>\n      <th>0</th>\n      <td>2020-06-09 19:00:00</td>\n      <td>LIB193263</td>\n      <td>99.000000</td>\n      <td>NaN</td>\n      <td>NaN</td>\n      <td>NaN</td>\n      <td>0.000000</td>\n      <td>1.000000</td>\n    </tr>\n    <tr>\n      <th>1</th>\n      <td>2020-06-09 19:15:00</td>\n      <td>LIB193263</td>\n      <td>92.000000</td>\n      <td>15.000000</td>\n      <td>99.000000</td>\n      <td>7.000000</td>\n      <td>1.000000</td>\n      <td>1.000000</td>\n    </tr>\n    <tr>\n      <th>2</th>\n      <td>2020-06-09 19:30:00</td>\n      <td>LIB193263</td>\n      <td>86.000000</td>\n      <td>15.000000</td>\n      <td>92.000000</td>\n      <td>6.000000</td>\n      <td>2.000000</td>\n      <td>1.000000</td>\n    </tr>\n    <tr>\n      <th>3</th>\n      <td>2020-06-09 19:45:00</td>\n      <td>LIB193263</td>\n      <td>85.000000</td>\n      <td>15.000000</td>\n      <td>86.000000</td>\n      <td>1.000000</td>\n      <td>3.000000</td>\n      <td>1.000000</td>\n    </tr>\n    <tr>\n      <th>4</th>\n      <td>2020-06-09 20:00:00</td>\n      <td>LIB193263</td>\n      <td>85.000000</td>\n      <td>15.000000</td>\n      <td>85.000000</td>\n      <td>0.000000</td>\n      <td>4.000000</td>\n      <td>1.000000</td>\n    </tr>\n    <tr>\n      <th>...</th>\n      <td>...</td>\n      <td>...</td>\n      <td>...</td>\n      <td>...</td>\n      <td>...</td>\n      <td>...</td>\n      <td>...</td>\n      <td>...</td>\n    </tr>\n    <tr>\n      <th>2943959</th>\n      <td>2022-01-02 01:00:00</td>\n      <td>LIB193424</td>\n      <td>207.000000</td>\n      <td>15.000000</td>\n      <td>186.000000</td>\n      <td>21.000000</td>\n      <td>2999995.000000</td>\n      <td>167201.000000</td>\n    </tr>\n    <tr>\n      <th>2943960</th>\n      <td>2022-01-02 01:15:00</td>\n      <td>LIB193424</td>\n      <td>215.000000</td>\n      <td>15.000000</td>\n      <td>207.000000</td>\n      <td>8.000000</td>\n      <td>2999996.000000</td>\n      <td>167201.000000</td>\n    </tr>\n    <tr>\n      <th>2943961</th>\n      <td>2022-01-02 01:30:00</td>\n      <td>LIB193424</td>\n      <td>218.000000</td>\n      <td>15.000000</td>\n      <td>215.000000</td>\n      <td>3.000000</td>\n      <td>2999997.000000</td>\n      <td>167201.000000</td>\n    </tr>\n    <tr>\n      <th>2943962</th>\n      <td>2022-01-02 01:45:00</td>\n      <td>LIB193424</td>\n      <td>222.000000</td>\n      <td>15.000000</td>\n      <td>218.000000</td>\n      <td>4.000000</td>\n      <td>2999998.000000</td>\n      <td>167201.000000</td>\n    </tr>\n    <tr>\n      <th>2943963</th>\n      <td>2022-01-02 02:00:00</td>\n      <td>LIB193424</td>\n      <td>220.000000</td>\n      <td>15.000000</td>\n      <td>222.000000</td>\n      <td>2.000000</td>\n      <td>2999999.000000</td>\n      <td>167201.000000</td>\n    </tr>\n  </tbody>\n</table>\n<p>2943964 rows × 8 columns</p>\n</div>"
     },
     "execution_count": 262,
     "metadata": {},
     "output_type": "execute_result"
    }
   ],
   "source": [
    "# Undoing the groupby 'Patient_ID', 'Frequency' and the index 't'\n",
    "df_downsampled = df_glucose_resampled.reset_index(level=0)\n",
    "df_downsampled = df_downsampled.reset_index(level=0, drop=True)\n",
    "df_downsampled = df_downsampled.reset_index()\n",
    "df_downsampled"
   ],
   "metadata": {
    "collapsed": false
   }
  },
  {
   "cell_type": "code",
   "execution_count": 264,
   "outputs": [
    {
     "data": {
      "text/plain": "                          t Patient_ID  Measurement  Minutes_diff  \\\n0       2020-06-09 19:00:00  LIB193263    99.000000           NaN   \n1       2020-06-09 19:15:00  LIB193263    92.000000     15.000000   \n2       2020-06-09 19:30:00  LIB193263    86.000000     15.000000   \n3       2020-06-09 19:45:00  LIB193263    85.000000     15.000000   \n4       2020-06-09 20:00:00  LIB193263    85.000000     15.000000   \n...                     ...        ...          ...           ...   \n2943959 2022-01-02 01:00:00  LIB193424   207.000000     15.000000   \n2943960 2022-01-02 01:15:00  LIB193424   215.000000     15.000000   \n2943961 2022-01-02 01:30:00  LIB193424   218.000000     15.000000   \n2943962 2022-01-02 01:45:00  LIB193424   222.000000     15.000000   \n2943963 2022-01-02 02:00:00  LIB193424   220.000000     15.000000   \n\n         Measurement-1  Measurement_diff          index     Frequency  \\\n0                  NaN               NaN       0.000000      1.000000   \n1            99.000000          7.000000       1.000000      1.000000   \n2            92.000000          6.000000       2.000000      1.000000   \n3            86.000000          1.000000       3.000000      1.000000   \n4            85.000000          0.000000       4.000000      1.000000   \n...                ...               ...            ...           ...   \n2943959     186.000000         21.000000 2999995.000000 167201.000000   \n2943960     207.000000          8.000000 2999996.000000 167201.000000   \n2943961     215.000000          3.000000 2999997.000000 167201.000000   \n2943962     218.000000          4.000000 2999998.000000 167201.000000   \n2943963     222.000000          2.000000 2999999.000000 167201.000000   \n\n                        t-1  \n0                       NaT  \n1       2020-06-09 19:00:00  \n2       2020-06-09 19:15:00  \n3       2020-06-09 19:30:00  \n4       2020-06-09 19:45:00  \n...                     ...  \n2943959 2022-01-02 00:45:00  \n2943960 2022-01-02 01:00:00  \n2943961 2022-01-02 01:15:00  \n2943962 2022-01-02 01:30:00  \n2943963 2022-01-02 01:45:00  \n\n[2943964 rows x 9 columns]",
      "text/html": "<div>\n<style scoped>\n    .dataframe tbody tr th:only-of-type {\n        vertical-align: middle;\n    }\n\n    .dataframe tbody tr th {\n        vertical-align: top;\n    }\n\n    .dataframe thead th {\n        text-align: right;\n    }\n</style>\n<table border=\"1\" class=\"dataframe\">\n  <thead>\n    <tr style=\"text-align: right;\">\n      <th></th>\n      <th>t</th>\n      <th>Patient_ID</th>\n      <th>Measurement</th>\n      <th>Minutes_diff</th>\n      <th>Measurement-1</th>\n      <th>Measurement_diff</th>\n      <th>index</th>\n      <th>Frequency</th>\n      <th>t-1</th>\n    </tr>\n  </thead>\n  <tbody>\n    <tr>\n      <th>0</th>\n      <td>2020-06-09 19:00:00</td>\n      <td>LIB193263</td>\n      <td>99.000000</td>\n      <td>NaN</td>\n      <td>NaN</td>\n      <td>NaN</td>\n      <td>0.000000</td>\n      <td>1.000000</td>\n      <td>NaT</td>\n    </tr>\n    <tr>\n      <th>1</th>\n      <td>2020-06-09 19:15:00</td>\n      <td>LIB193263</td>\n      <td>92.000000</td>\n      <td>15.000000</td>\n      <td>99.000000</td>\n      <td>7.000000</td>\n      <td>1.000000</td>\n      <td>1.000000</td>\n      <td>2020-06-09 19:00:00</td>\n    </tr>\n    <tr>\n      <th>2</th>\n      <td>2020-06-09 19:30:00</td>\n      <td>LIB193263</td>\n      <td>86.000000</td>\n      <td>15.000000</td>\n      <td>92.000000</td>\n      <td>6.000000</td>\n      <td>2.000000</td>\n      <td>1.000000</td>\n      <td>2020-06-09 19:15:00</td>\n    </tr>\n    <tr>\n      <th>3</th>\n      <td>2020-06-09 19:45:00</td>\n      <td>LIB193263</td>\n      <td>85.000000</td>\n      <td>15.000000</td>\n      <td>86.000000</td>\n      <td>1.000000</td>\n      <td>3.000000</td>\n      <td>1.000000</td>\n      <td>2020-06-09 19:30:00</td>\n    </tr>\n    <tr>\n      <th>4</th>\n      <td>2020-06-09 20:00:00</td>\n      <td>LIB193263</td>\n      <td>85.000000</td>\n      <td>15.000000</td>\n      <td>85.000000</td>\n      <td>0.000000</td>\n      <td>4.000000</td>\n      <td>1.000000</td>\n      <td>2020-06-09 19:45:00</td>\n    </tr>\n    <tr>\n      <th>...</th>\n      <td>...</td>\n      <td>...</td>\n      <td>...</td>\n      <td>...</td>\n      <td>...</td>\n      <td>...</td>\n      <td>...</td>\n      <td>...</td>\n      <td>...</td>\n    </tr>\n    <tr>\n      <th>2943959</th>\n      <td>2022-01-02 01:00:00</td>\n      <td>LIB193424</td>\n      <td>207.000000</td>\n      <td>15.000000</td>\n      <td>186.000000</td>\n      <td>21.000000</td>\n      <td>2999995.000000</td>\n      <td>167201.000000</td>\n      <td>2022-01-02 00:45:00</td>\n    </tr>\n    <tr>\n      <th>2943960</th>\n      <td>2022-01-02 01:15:00</td>\n      <td>LIB193424</td>\n      <td>215.000000</td>\n      <td>15.000000</td>\n      <td>207.000000</td>\n      <td>8.000000</td>\n      <td>2999996.000000</td>\n      <td>167201.000000</td>\n      <td>2022-01-02 01:00:00</td>\n    </tr>\n    <tr>\n      <th>2943961</th>\n      <td>2022-01-02 01:30:00</td>\n      <td>LIB193424</td>\n      <td>218.000000</td>\n      <td>15.000000</td>\n      <td>215.000000</td>\n      <td>3.000000</td>\n      <td>2999997.000000</td>\n      <td>167201.000000</td>\n      <td>2022-01-02 01:15:00</td>\n    </tr>\n    <tr>\n      <th>2943962</th>\n      <td>2022-01-02 01:45:00</td>\n      <td>LIB193424</td>\n      <td>222.000000</td>\n      <td>15.000000</td>\n      <td>218.000000</td>\n      <td>4.000000</td>\n      <td>2999998.000000</td>\n      <td>167201.000000</td>\n      <td>2022-01-02 01:30:00</td>\n    </tr>\n    <tr>\n      <th>2943963</th>\n      <td>2022-01-02 02:00:00</td>\n      <td>LIB193424</td>\n      <td>220.000000</td>\n      <td>15.000000</td>\n      <td>222.000000</td>\n      <td>2.000000</td>\n      <td>2999999.000000</td>\n      <td>167201.000000</td>\n      <td>2022-01-02 01:45:00</td>\n    </tr>\n  </tbody>\n</table>\n<p>2943964 rows × 9 columns</p>\n</div>"
     },
     "execution_count": 264,
     "metadata": {},
     "output_type": "execute_result"
    }
   ],
   "source": [
    "# Recalulating the lagged cols\n",
    "df_downsampled = get_lagged_col(df=df_downsampled, col=\"t\", new_col_name=\"t\",\n",
    "                           diff_time_treatment=True, diff_name=\"Minutes_diff\")\n",
    "df_downsampled = get_lagged_col(df=df_downsampled, col=\"Measurement\", new_col_name=\"Measurement\",\n",
    "                                absolute_value=True, diff_name=\"Measurement_diff\")\n",
    "\n",
    "df_downsampled"
   ],
   "metadata": {
    "collapsed": false
   }
  },
  {
   "cell_type": "code",
   "execution_count": 282,
   "outputs": [
    {
     "data": {
      "text/plain": "                          t Patient_ID  Measurement  Minutes_diff  \\\n211     2020-06-12 00:00:00  LIB193263   147.000000     30.000000   \n278     2020-06-12 17:00:00  LIB193263   111.000000     30.000000   \n497     2020-06-15 00:00:00  LIB193263   186.000000     30.000000   \n592     2020-06-16 00:00:00  LIB193263    90.000000     30.000000   \n743     2020-06-17 14:00:00  LIB193263   169.000000     30.000000   \n...                     ...        ...          ...           ...   \n2943678 2021-12-30 01:00:00  LIB193424   261.000000    120.000000   \n2943768 2021-12-31 00:00:00  LIB193424   212.000000     45.000000   \n2943807 2021-12-31 10:00:00  LIB193424   156.000000     30.000000   \n2943937 2022-01-01 18:45:00  LIB193424   193.000000     30.000000   \n2943956 2022-01-02 00:15:00  LIB193424   163.000000     60.000000   \n\n         Measurement-1  Measurement_diff          index     Frequency  \\\n211         155.000000          8.000000     211.000000      3.000000   \n278         123.000000         12.000000     279.000000      4.000000   \n497         197.000000         11.000000     499.000000      7.000000   \n592          95.000000          5.000000     594.000000      9.000000   \n743         150.000000         19.000000     746.000000     12.000000   \n...                ...               ...            ...           ...   \n2943678     113.000000        148.000000 2999714.000000 167177.000000   \n2943768     213.000000          1.000000 2999804.000000 167185.000000   \n2943807     161.000000          5.000000 2999843.000000 167186.000000   \n2943937     187.000000          6.000000 2999973.000000 167198.000000   \n2943956     117.000000         46.000000 2999992.000000 167201.000000   \n\n                        t-1  \n211     2020-06-11 23:30:00  \n278     2020-06-12 16:30:00  \n497     2020-06-14 23:30:00  \n592     2020-06-15 23:30:00  \n743     2020-06-17 13:30:00  \n...                     ...  \n2943678 2021-12-29 23:00:00  \n2943768 2021-12-30 23:15:00  \n2943807 2021-12-31 09:30:00  \n2943937 2022-01-01 18:15:00  \n2943956 2022-01-01 23:15:00  \n\n[31644 rows x 9 columns]",
      "text/html": "<div>\n<style scoped>\n    .dataframe tbody tr th:only-of-type {\n        vertical-align: middle;\n    }\n\n    .dataframe tbody tr th {\n        vertical-align: top;\n    }\n\n    .dataframe thead th {\n        text-align: right;\n    }\n</style>\n<table border=\"1\" class=\"dataframe\">\n  <thead>\n    <tr style=\"text-align: right;\">\n      <th></th>\n      <th>t</th>\n      <th>Patient_ID</th>\n      <th>Measurement</th>\n      <th>Minutes_diff</th>\n      <th>Measurement-1</th>\n      <th>Measurement_diff</th>\n      <th>index</th>\n      <th>Frequency</th>\n      <th>t-1</th>\n    </tr>\n  </thead>\n  <tbody>\n    <tr>\n      <th>211</th>\n      <td>2020-06-12 00:00:00</td>\n      <td>LIB193263</td>\n      <td>147.000000</td>\n      <td>30.000000</td>\n      <td>155.000000</td>\n      <td>8.000000</td>\n      <td>211.000000</td>\n      <td>3.000000</td>\n      <td>2020-06-11 23:30:00</td>\n    </tr>\n    <tr>\n      <th>278</th>\n      <td>2020-06-12 17:00:00</td>\n      <td>LIB193263</td>\n      <td>111.000000</td>\n      <td>30.000000</td>\n      <td>123.000000</td>\n      <td>12.000000</td>\n      <td>279.000000</td>\n      <td>4.000000</td>\n      <td>2020-06-12 16:30:00</td>\n    </tr>\n    <tr>\n      <th>497</th>\n      <td>2020-06-15 00:00:00</td>\n      <td>LIB193263</td>\n      <td>186.000000</td>\n      <td>30.000000</td>\n      <td>197.000000</td>\n      <td>11.000000</td>\n      <td>499.000000</td>\n      <td>7.000000</td>\n      <td>2020-06-14 23:30:00</td>\n    </tr>\n    <tr>\n      <th>592</th>\n      <td>2020-06-16 00:00:00</td>\n      <td>LIB193263</td>\n      <td>90.000000</td>\n      <td>30.000000</td>\n      <td>95.000000</td>\n      <td>5.000000</td>\n      <td>594.000000</td>\n      <td>9.000000</td>\n      <td>2020-06-15 23:30:00</td>\n    </tr>\n    <tr>\n      <th>743</th>\n      <td>2020-06-17 14:00:00</td>\n      <td>LIB193263</td>\n      <td>169.000000</td>\n      <td>30.000000</td>\n      <td>150.000000</td>\n      <td>19.000000</td>\n      <td>746.000000</td>\n      <td>12.000000</td>\n      <td>2020-06-17 13:30:00</td>\n    </tr>\n    <tr>\n      <th>...</th>\n      <td>...</td>\n      <td>...</td>\n      <td>...</td>\n      <td>...</td>\n      <td>...</td>\n      <td>...</td>\n      <td>...</td>\n      <td>...</td>\n      <td>...</td>\n    </tr>\n    <tr>\n      <th>2943678</th>\n      <td>2021-12-30 01:00:00</td>\n      <td>LIB193424</td>\n      <td>261.000000</td>\n      <td>120.000000</td>\n      <td>113.000000</td>\n      <td>148.000000</td>\n      <td>2999714.000000</td>\n      <td>167177.000000</td>\n      <td>2021-12-29 23:00:00</td>\n    </tr>\n    <tr>\n      <th>2943768</th>\n      <td>2021-12-31 00:00:00</td>\n      <td>LIB193424</td>\n      <td>212.000000</td>\n      <td>45.000000</td>\n      <td>213.000000</td>\n      <td>1.000000</td>\n      <td>2999804.000000</td>\n      <td>167185.000000</td>\n      <td>2021-12-30 23:15:00</td>\n    </tr>\n    <tr>\n      <th>2943807</th>\n      <td>2021-12-31 10:00:00</td>\n      <td>LIB193424</td>\n      <td>156.000000</td>\n      <td>30.000000</td>\n      <td>161.000000</td>\n      <td>5.000000</td>\n      <td>2999843.000000</td>\n      <td>167186.000000</td>\n      <td>2021-12-31 09:30:00</td>\n    </tr>\n    <tr>\n      <th>2943937</th>\n      <td>2022-01-01 18:45:00</td>\n      <td>LIB193424</td>\n      <td>193.000000</td>\n      <td>30.000000</td>\n      <td>187.000000</td>\n      <td>6.000000</td>\n      <td>2999973.000000</td>\n      <td>167198.000000</td>\n      <td>2022-01-01 18:15:00</td>\n    </tr>\n    <tr>\n      <th>2943956</th>\n      <td>2022-01-02 00:15:00</td>\n      <td>LIB193424</td>\n      <td>163.000000</td>\n      <td>60.000000</td>\n      <td>117.000000</td>\n      <td>46.000000</td>\n      <td>2999992.000000</td>\n      <td>167201.000000</td>\n      <td>2022-01-01 23:15:00</td>\n    </tr>\n  </tbody>\n</table>\n<p>31644 rows × 9 columns</p>\n</div>"
     },
     "execution_count": 282,
     "metadata": {},
     "output_type": "execute_result"
    }
   ],
   "source": [
    "df_downsampled[df_downsampled['Minutes_diff'] > 18]"
   ],
   "metadata": {
    "collapsed": false
   }
  },
  {
   "cell_type": "code",
   "execution_count": 283,
   "outputs": [
    {
     "data": {
      "text/plain": "        Patient_ID Measurement_date Measurement_time  Measurement  \\\n211      LIB193263       2020-06-12         00:01:00          147   \n499      LIB193263       2020-06-15         00:07:00          186   \n594      LIB193263       2020-06-16         00:03:00           90   \n753      LIB193263       2020-06-17         16:00:00          298   \n1268     LIB193263       2020-06-23         00:40:00          132   \n...            ...              ...              ...          ...   \n2999341  LIB193424       2021-12-26         01:36:00          232   \n2999714  LIB193424       2021-12-30         01:03:00          261   \n2999804  LIB193424       2021-12-31         00:14:00          212   \n2999905  LIB193424       2022-01-01         01:40:00          248   \n2999992  LIB193424       2022-01-02         00:20:00          163   \n\n                          t                 t-1  Minutes_diff  Measurement-1  \\\n211     2020-06-12 00:01:00 2020-06-11 23:32:00     29.000000     155.000000   \n499     2020-06-15 00:07:00 2020-06-14 23:38:00     29.000000     197.000000   \n594     2020-06-16 00:03:00 2020-06-15 23:35:00     28.000000      95.000000   \n753     2020-06-17 16:00:00 2020-06-17 15:30:00     30.000000     316.000000   \n1268    2020-06-23 00:40:00 2020-06-23 00:11:00     29.000000     139.000000   \n...                     ...                 ...           ...            ...   \n2999341 2021-12-26 01:36:00 2021-12-26 00:02:00     94.000000     219.000000   \n2999714 2021-12-30 01:03:00 2021-12-29 23:14:00    109.000000     113.000000   \n2999804 2021-12-31 00:14:00 2021-12-30 23:24:00     50.000000     213.000000   \n2999905 2022-01-01 01:40:00 2022-01-01 01:21:00     19.000000     265.000000   \n2999992 2022-01-02 00:20:00 2022-01-01 23:17:00     63.000000     117.000000   \n\n         Measurement_diff    index  Frequency  \n211              8.000000      211          3  \n499             11.000000      499          7  \n594              5.000000      594          9  \n753             18.000000      753         13  \n1268             7.000000     1268         17  \n...                   ...      ...        ...  \n2999341         13.000000  2999341     167143  \n2999714        148.000000  2999714     167177  \n2999804          1.000000  2999804     167185  \n2999905         17.000000  2999905     167193  \n2999992         46.000000  2999992     167201  \n\n[21312 rows x 11 columns]",
      "text/html": "<div>\n<style scoped>\n    .dataframe tbody tr th:only-of-type {\n        vertical-align: middle;\n    }\n\n    .dataframe tbody tr th {\n        vertical-align: top;\n    }\n\n    .dataframe thead th {\n        text-align: right;\n    }\n</style>\n<table border=\"1\" class=\"dataframe\">\n  <thead>\n    <tr style=\"text-align: right;\">\n      <th></th>\n      <th>Patient_ID</th>\n      <th>Measurement_date</th>\n      <th>Measurement_time</th>\n      <th>Measurement</th>\n      <th>t</th>\n      <th>t-1</th>\n      <th>Minutes_diff</th>\n      <th>Measurement-1</th>\n      <th>Measurement_diff</th>\n      <th>index</th>\n      <th>Frequency</th>\n    </tr>\n  </thead>\n  <tbody>\n    <tr>\n      <th>211</th>\n      <td>LIB193263</td>\n      <td>2020-06-12</td>\n      <td>00:01:00</td>\n      <td>147</td>\n      <td>2020-06-12 00:01:00</td>\n      <td>2020-06-11 23:32:00</td>\n      <td>29.000000</td>\n      <td>155.000000</td>\n      <td>8.000000</td>\n      <td>211</td>\n      <td>3</td>\n    </tr>\n    <tr>\n      <th>499</th>\n      <td>LIB193263</td>\n      <td>2020-06-15</td>\n      <td>00:07:00</td>\n      <td>186</td>\n      <td>2020-06-15 00:07:00</td>\n      <td>2020-06-14 23:38:00</td>\n      <td>29.000000</td>\n      <td>197.000000</td>\n      <td>11.000000</td>\n      <td>499</td>\n      <td>7</td>\n    </tr>\n    <tr>\n      <th>594</th>\n      <td>LIB193263</td>\n      <td>2020-06-16</td>\n      <td>00:03:00</td>\n      <td>90</td>\n      <td>2020-06-16 00:03:00</td>\n      <td>2020-06-15 23:35:00</td>\n      <td>28.000000</td>\n      <td>95.000000</td>\n      <td>5.000000</td>\n      <td>594</td>\n      <td>9</td>\n    </tr>\n    <tr>\n      <th>753</th>\n      <td>LIB193263</td>\n      <td>2020-06-17</td>\n      <td>16:00:00</td>\n      <td>298</td>\n      <td>2020-06-17 16:00:00</td>\n      <td>2020-06-17 15:30:00</td>\n      <td>30.000000</td>\n      <td>316.000000</td>\n      <td>18.000000</td>\n      <td>753</td>\n      <td>13</td>\n    </tr>\n    <tr>\n      <th>1268</th>\n      <td>LIB193263</td>\n      <td>2020-06-23</td>\n      <td>00:40:00</td>\n      <td>132</td>\n      <td>2020-06-23 00:40:00</td>\n      <td>2020-06-23 00:11:00</td>\n      <td>29.000000</td>\n      <td>139.000000</td>\n      <td>7.000000</td>\n      <td>1268</td>\n      <td>17</td>\n    </tr>\n    <tr>\n      <th>...</th>\n      <td>...</td>\n      <td>...</td>\n      <td>...</td>\n      <td>...</td>\n      <td>...</td>\n      <td>...</td>\n      <td>...</td>\n      <td>...</td>\n      <td>...</td>\n      <td>...</td>\n      <td>...</td>\n    </tr>\n    <tr>\n      <th>2999341</th>\n      <td>LIB193424</td>\n      <td>2021-12-26</td>\n      <td>01:36:00</td>\n      <td>232</td>\n      <td>2021-12-26 01:36:00</td>\n      <td>2021-12-26 00:02:00</td>\n      <td>94.000000</td>\n      <td>219.000000</td>\n      <td>13.000000</td>\n      <td>2999341</td>\n      <td>167143</td>\n    </tr>\n    <tr>\n      <th>2999714</th>\n      <td>LIB193424</td>\n      <td>2021-12-30</td>\n      <td>01:03:00</td>\n      <td>261</td>\n      <td>2021-12-30 01:03:00</td>\n      <td>2021-12-29 23:14:00</td>\n      <td>109.000000</td>\n      <td>113.000000</td>\n      <td>148.000000</td>\n      <td>2999714</td>\n      <td>167177</td>\n    </tr>\n    <tr>\n      <th>2999804</th>\n      <td>LIB193424</td>\n      <td>2021-12-31</td>\n      <td>00:14:00</td>\n      <td>212</td>\n      <td>2021-12-31 00:14:00</td>\n      <td>2021-12-30 23:24:00</td>\n      <td>50.000000</td>\n      <td>213.000000</td>\n      <td>1.000000</td>\n      <td>2999804</td>\n      <td>167185</td>\n    </tr>\n    <tr>\n      <th>2999905</th>\n      <td>LIB193424</td>\n      <td>2022-01-01</td>\n      <td>01:40:00</td>\n      <td>248</td>\n      <td>2022-01-01 01:40:00</td>\n      <td>2022-01-01 01:21:00</td>\n      <td>19.000000</td>\n      <td>265.000000</td>\n      <td>17.000000</td>\n      <td>2999905</td>\n      <td>167193</td>\n    </tr>\n    <tr>\n      <th>2999992</th>\n      <td>LIB193424</td>\n      <td>2022-01-02</td>\n      <td>00:20:00</td>\n      <td>163</td>\n      <td>2022-01-02 00:20:00</td>\n      <td>2022-01-01 23:17:00</td>\n      <td>63.000000</td>\n      <td>117.000000</td>\n      <td>46.000000</td>\n      <td>2999992</td>\n      <td>167201</td>\n    </tr>\n  </tbody>\n</table>\n<p>21312 rows × 11 columns</p>\n</div>"
     },
     "execution_count": 283,
     "metadata": {},
     "output_type": "execute_result"
    }
   ],
   "source": [
    "df_glucose_lag[df_glucose_lag['Minutes_diff'] > 18]"
   ],
   "metadata": {
    "collapsed": false
   }
  },
  {
   "cell_type": "code",
   "execution_count": 279,
   "outputs": [
    {
     "data": {
      "text/plain": "        Patient_ID Measurement_date Measurement_time  Measurement  \\\n0        LIB193263       2020-06-09         19:08:00           99   \n1        LIB193263       2020-06-09         19:23:00           92   \n2        LIB193263       2020-06-09         19:38:00           86   \n3        LIB193263       2020-06-09         19:53:00           85   \n4        LIB193263       2020-06-09         20:08:00           85   \n...            ...              ...              ...          ...   \n2999995  LIB193424       2022-01-02         01:05:00          207   \n2999996  LIB193424       2022-01-02         01:20:00          215   \n2999997  LIB193424       2022-01-02         01:35:00          218   \n2999998  LIB193424       2022-01-02         01:50:00          222   \n2999999  LIB193424       2022-01-02         02:05:00          220   \n\n                          t                 t-1  Minutes_diff  Measurement-1  \\\n0       2020-06-09 19:08:00                 NaT           NaN            NaN   \n1       2020-06-09 19:23:00 2020-06-09 19:08:00     15.000000      99.000000   \n2       2020-06-09 19:38:00 2020-06-09 19:23:00     15.000000      92.000000   \n3       2020-06-09 19:53:00 2020-06-09 19:38:00     15.000000      86.000000   \n4       2020-06-09 20:08:00 2020-06-09 19:53:00     15.000000      85.000000   \n...                     ...                 ...           ...            ...   \n2999995 2022-01-02 01:05:00 2022-01-02 00:50:00     15.000000     186.000000   \n2999996 2022-01-02 01:20:00 2022-01-02 01:05:00     15.000000     207.000000   \n2999997 2022-01-02 01:35:00 2022-01-02 01:20:00     15.000000     215.000000   \n2999998 2022-01-02 01:50:00 2022-01-02 01:35:00     15.000000     218.000000   \n2999999 2022-01-02 02:05:00 2022-01-02 01:50:00     15.000000     222.000000   \n\n         Measurement_diff    index  Frequency  \n0                     NaN        0          1  \n1                7.000000        1          1  \n2                6.000000        2          1  \n3                1.000000        3          1  \n4                0.000000        4          1  \n...                   ...      ...        ...  \n2999995         21.000000  2999995     167201  \n2999996          8.000000  2999996     167201  \n2999997          3.000000  2999997     167201  \n2999998          4.000000  2999998     167201  \n2999999          2.000000  2999999     167201  \n\n[3000000 rows x 11 columns]",
      "text/html": "<div>\n<style scoped>\n    .dataframe tbody tr th:only-of-type {\n        vertical-align: middle;\n    }\n\n    .dataframe tbody tr th {\n        vertical-align: top;\n    }\n\n    .dataframe thead th {\n        text-align: right;\n    }\n</style>\n<table border=\"1\" class=\"dataframe\">\n  <thead>\n    <tr style=\"text-align: right;\">\n      <th></th>\n      <th>Patient_ID</th>\n      <th>Measurement_date</th>\n      <th>Measurement_time</th>\n      <th>Measurement</th>\n      <th>t</th>\n      <th>t-1</th>\n      <th>Minutes_diff</th>\n      <th>Measurement-1</th>\n      <th>Measurement_diff</th>\n      <th>index</th>\n      <th>Frequency</th>\n    </tr>\n  </thead>\n  <tbody>\n    <tr>\n      <th>0</th>\n      <td>LIB193263</td>\n      <td>2020-06-09</td>\n      <td>19:08:00</td>\n      <td>99</td>\n      <td>2020-06-09 19:08:00</td>\n      <td>NaT</td>\n      <td>NaN</td>\n      <td>NaN</td>\n      <td>NaN</td>\n      <td>0</td>\n      <td>1</td>\n    </tr>\n    <tr>\n      <th>1</th>\n      <td>LIB193263</td>\n      <td>2020-06-09</td>\n      <td>19:23:00</td>\n      <td>92</td>\n      <td>2020-06-09 19:23:00</td>\n      <td>2020-06-09 19:08:00</td>\n      <td>15.000000</td>\n      <td>99.000000</td>\n      <td>7.000000</td>\n      <td>1</td>\n      <td>1</td>\n    </tr>\n    <tr>\n      <th>2</th>\n      <td>LIB193263</td>\n      <td>2020-06-09</td>\n      <td>19:38:00</td>\n      <td>86</td>\n      <td>2020-06-09 19:38:00</td>\n      <td>2020-06-09 19:23:00</td>\n      <td>15.000000</td>\n      <td>92.000000</td>\n      <td>6.000000</td>\n      <td>2</td>\n      <td>1</td>\n    </tr>\n    <tr>\n      <th>3</th>\n      <td>LIB193263</td>\n      <td>2020-06-09</td>\n      <td>19:53:00</td>\n      <td>85</td>\n      <td>2020-06-09 19:53:00</td>\n      <td>2020-06-09 19:38:00</td>\n      <td>15.000000</td>\n      <td>86.000000</td>\n      <td>1.000000</td>\n      <td>3</td>\n      <td>1</td>\n    </tr>\n    <tr>\n      <th>4</th>\n      <td>LIB193263</td>\n      <td>2020-06-09</td>\n      <td>20:08:00</td>\n      <td>85</td>\n      <td>2020-06-09 20:08:00</td>\n      <td>2020-06-09 19:53:00</td>\n      <td>15.000000</td>\n      <td>85.000000</td>\n      <td>0.000000</td>\n      <td>4</td>\n      <td>1</td>\n    </tr>\n    <tr>\n      <th>...</th>\n      <td>...</td>\n      <td>...</td>\n      <td>...</td>\n      <td>...</td>\n      <td>...</td>\n      <td>...</td>\n      <td>...</td>\n      <td>...</td>\n      <td>...</td>\n      <td>...</td>\n      <td>...</td>\n    </tr>\n    <tr>\n      <th>2999995</th>\n      <td>LIB193424</td>\n      <td>2022-01-02</td>\n      <td>01:05:00</td>\n      <td>207</td>\n      <td>2022-01-02 01:05:00</td>\n      <td>2022-01-02 00:50:00</td>\n      <td>15.000000</td>\n      <td>186.000000</td>\n      <td>21.000000</td>\n      <td>2999995</td>\n      <td>167201</td>\n    </tr>\n    <tr>\n      <th>2999996</th>\n      <td>LIB193424</td>\n      <td>2022-01-02</td>\n      <td>01:20:00</td>\n      <td>215</td>\n      <td>2022-01-02 01:20:00</td>\n      <td>2022-01-02 01:05:00</td>\n      <td>15.000000</td>\n      <td>207.000000</td>\n      <td>8.000000</td>\n      <td>2999996</td>\n      <td>167201</td>\n    </tr>\n    <tr>\n      <th>2999997</th>\n      <td>LIB193424</td>\n      <td>2022-01-02</td>\n      <td>01:35:00</td>\n      <td>218</td>\n      <td>2022-01-02 01:35:00</td>\n      <td>2022-01-02 01:20:00</td>\n      <td>15.000000</td>\n      <td>215.000000</td>\n      <td>3.000000</td>\n      <td>2999997</td>\n      <td>167201</td>\n    </tr>\n    <tr>\n      <th>2999998</th>\n      <td>LIB193424</td>\n      <td>2022-01-02</td>\n      <td>01:50:00</td>\n      <td>222</td>\n      <td>2022-01-02 01:50:00</td>\n      <td>2022-01-02 01:35:00</td>\n      <td>15.000000</td>\n      <td>218.000000</td>\n      <td>4.000000</td>\n      <td>2999998</td>\n      <td>167201</td>\n    </tr>\n    <tr>\n      <th>2999999</th>\n      <td>LIB193424</td>\n      <td>2022-01-02</td>\n      <td>02:05:00</td>\n      <td>220</td>\n      <td>2022-01-02 02:05:00</td>\n      <td>2022-01-02 01:50:00</td>\n      <td>15.000000</td>\n      <td>222.000000</td>\n      <td>2.000000</td>\n      <td>2999999</td>\n      <td>167201</td>\n    </tr>\n  </tbody>\n</table>\n<p>3000000 rows × 11 columns</p>\n</div>"
     },
     "execution_count": 279,
     "metadata": {},
     "output_type": "execute_result"
    }
   ],
   "source": [
    "df_glucose_lag"
   ],
   "metadata": {
    "collapsed": false
   }
  },
  {
   "cell_type": "markdown",
   "source": [
    "## Testing the downsampling has no errors"
   ],
   "metadata": {
    "collapsed": false
   }
  },
  {
   "cell_type": "code",
   "execution_count": 269,
   "outputs": [
    {
     "name": "stdout",
     "output_type": "stream",
     "text": [
      " Samples with time diff shorter than 15 minutes: 0 samples\n"
     ]
    }
   ],
   "source": [
    "print(f\" Samples with time diff shorter than 15 minutes: {df_downsampled[df_downsampled['Minutes_diff'] < 15].shape[0]} samples\")"
   ],
   "metadata": {
    "collapsed": false
   }
  },
  {
   "cell_type": "code",
   "execution_count": 270,
   "outputs": [
    {
     "name": "stdout",
     "output_type": "stream",
     "text": [
      "Difference of samples with the original dataset: 56036\n"
     ]
    }
   ],
   "source": [
    "\n",
    "print(f\"Difference of samples with the original dataset: {complete_df_glucose.shape[0] - df_downsampled.shape[0]}\")\n"
   ],
   "metadata": {
    "collapsed": false
   }
  },
  {
   "cell_type": "code",
   "execution_count": 275,
   "outputs": [
    {
     "name": "stdout",
     "output_type": "stream",
     "text": [
      "Number of Nan values created with the resample: 0\n"
     ]
    }
   ],
   "source": [
    "print(f\"Number of Nan values created with the resample: {df_downsampled['Measurement'].isna().sum()}\")"
   ],
   "metadata": {
    "collapsed": false
   }
  },
  {
   "cell_type": "code",
   "execution_count": 295,
   "outputs": [
    {
     "data": {
      "text/plain": "12260"
     },
     "execution_count": 295,
     "metadata": {},
     "output_type": "execute_result"
    }
   ],
   "source": [
    "\n",
    "abs(df_downsampled[df_downsampled['Minutes_diff'] > 15].shape[0] - df_glucose_lag[df_glucose_lag['Minutes_diff'] > 15].shape[0])"
   ],
   "metadata": {
    "collapsed": false
   }
  },
  {
   "cell_type": "code",
   "execution_count": 310,
   "outputs": [
    {
     "data": {
      "text/plain": "       Patient_ID Measurement_date Measurement_time  Measurement  \\\n139326  LIB193266       2020-12-12         05:24:00          203   \n139327  LIB193266       2020-12-12         05:39:00          209   \n139328  LIB193266       2020-12-12         05:54:00          207   \n139329  LIB193266       2020-12-12         06:09:00          193   \n139330  LIB193266       2020-12-12         06:24:00          177   \n...           ...              ...              ...          ...   \n188764  LIB193266       2022-03-21         11:09:00           76   \n188765  LIB193266       2022-03-21         11:24:00           77   \n188766  LIB193266       2022-03-21         11:39:00           79   \n188767  LIB193266       2022-03-21         11:54:00           80   \n188768  LIB193266       2022-03-21         12:09:00           82   \n\n                         t                 t-1  Minutes_diff  Measurement-1  \\\n139326 2020-12-12 05:24:00 2020-12-12 05:09:00     15.000000     205.000000   \n139327 2020-12-12 05:39:00 2020-12-12 05:24:00     15.000000     203.000000   \n139328 2020-12-12 05:54:00 2020-12-12 05:39:00     15.000000     209.000000   \n139329 2020-12-12 06:09:00 2020-12-12 05:54:00     15.000000     207.000000   \n139330 2020-12-12 06:24:00 2020-12-12 06:09:00     15.000000     193.000000   \n...                    ...                 ...           ...            ...   \n188764 2022-03-21 11:09:00 2022-03-21 10:54:00     15.000000      78.000000   \n188765 2022-03-21 11:24:00 2022-03-21 11:09:00     15.000000      76.000000   \n188766 2022-03-21 11:39:00 2022-03-21 11:24:00     15.000000      77.000000   \n188767 2022-03-21 11:54:00 2022-03-21 11:39:00     15.000000      79.000000   \n188768 2022-03-21 12:09:00 2022-03-21 11:54:00     15.000000      80.000000   \n\n        Measurement_diff   index  Frequency  \n139326          2.000000  139326       6513  \n139327          6.000000  139327       6513  \n139328          2.000000  139328       6513  \n139329         14.000000  139329       6513  \n139330         16.000000  139330       6513  \n...                  ...     ...        ...  \n188764          2.000000  188764       8288  \n188765          1.000000  188765       8288  \n188766          2.000000  188766       8288  \n188767          1.000000  188767       8288  \n188768          2.000000  188768       8288  \n\n[49443 rows x 11 columns]",
      "text/html": "<div>\n<style scoped>\n    .dataframe tbody tr th:only-of-type {\n        vertical-align: middle;\n    }\n\n    .dataframe tbody tr th {\n        vertical-align: top;\n    }\n\n    .dataframe thead th {\n        text-align: right;\n    }\n</style>\n<table border=\"1\" class=\"dataframe\">\n  <thead>\n    <tr style=\"text-align: right;\">\n      <th></th>\n      <th>Patient_ID</th>\n      <th>Measurement_date</th>\n      <th>Measurement_time</th>\n      <th>Measurement</th>\n      <th>t</th>\n      <th>t-1</th>\n      <th>Minutes_diff</th>\n      <th>Measurement-1</th>\n      <th>Measurement_diff</th>\n      <th>index</th>\n      <th>Frequency</th>\n    </tr>\n  </thead>\n  <tbody>\n    <tr>\n      <th>139326</th>\n      <td>LIB193266</td>\n      <td>2020-12-12</td>\n      <td>05:24:00</td>\n      <td>203</td>\n      <td>2020-12-12 05:24:00</td>\n      <td>2020-12-12 05:09:00</td>\n      <td>15.000000</td>\n      <td>205.000000</td>\n      <td>2.000000</td>\n      <td>139326</td>\n      <td>6513</td>\n    </tr>\n    <tr>\n      <th>139327</th>\n      <td>LIB193266</td>\n      <td>2020-12-12</td>\n      <td>05:39:00</td>\n      <td>209</td>\n      <td>2020-12-12 05:39:00</td>\n      <td>2020-12-12 05:24:00</td>\n      <td>15.000000</td>\n      <td>203.000000</td>\n      <td>6.000000</td>\n      <td>139327</td>\n      <td>6513</td>\n    </tr>\n    <tr>\n      <th>139328</th>\n      <td>LIB193266</td>\n      <td>2020-12-12</td>\n      <td>05:54:00</td>\n      <td>207</td>\n      <td>2020-12-12 05:54:00</td>\n      <td>2020-12-12 05:39:00</td>\n      <td>15.000000</td>\n      <td>209.000000</td>\n      <td>2.000000</td>\n      <td>139328</td>\n      <td>6513</td>\n    </tr>\n    <tr>\n      <th>139329</th>\n      <td>LIB193266</td>\n      <td>2020-12-12</td>\n      <td>06:09:00</td>\n      <td>193</td>\n      <td>2020-12-12 06:09:00</td>\n      <td>2020-12-12 05:54:00</td>\n      <td>15.000000</td>\n      <td>207.000000</td>\n      <td>14.000000</td>\n      <td>139329</td>\n      <td>6513</td>\n    </tr>\n    <tr>\n      <th>139330</th>\n      <td>LIB193266</td>\n      <td>2020-12-12</td>\n      <td>06:24:00</td>\n      <td>177</td>\n      <td>2020-12-12 06:24:00</td>\n      <td>2020-12-12 06:09:00</td>\n      <td>15.000000</td>\n      <td>193.000000</td>\n      <td>16.000000</td>\n      <td>139330</td>\n      <td>6513</td>\n    </tr>\n    <tr>\n      <th>...</th>\n      <td>...</td>\n      <td>...</td>\n      <td>...</td>\n      <td>...</td>\n      <td>...</td>\n      <td>...</td>\n      <td>...</td>\n      <td>...</td>\n      <td>...</td>\n      <td>...</td>\n      <td>...</td>\n    </tr>\n    <tr>\n      <th>188764</th>\n      <td>LIB193266</td>\n      <td>2022-03-21</td>\n      <td>11:09:00</td>\n      <td>76</td>\n      <td>2022-03-21 11:09:00</td>\n      <td>2022-03-21 10:54:00</td>\n      <td>15.000000</td>\n      <td>78.000000</td>\n      <td>2.000000</td>\n      <td>188764</td>\n      <td>8288</td>\n    </tr>\n    <tr>\n      <th>188765</th>\n      <td>LIB193266</td>\n      <td>2022-03-21</td>\n      <td>11:24:00</td>\n      <td>77</td>\n      <td>2022-03-21 11:24:00</td>\n      <td>2022-03-21 11:09:00</td>\n      <td>15.000000</td>\n      <td>76.000000</td>\n      <td>1.000000</td>\n      <td>188765</td>\n      <td>8288</td>\n    </tr>\n    <tr>\n      <th>188766</th>\n      <td>LIB193266</td>\n      <td>2022-03-21</td>\n      <td>11:39:00</td>\n      <td>79</td>\n      <td>2022-03-21 11:39:00</td>\n      <td>2022-03-21 11:24:00</td>\n      <td>15.000000</td>\n      <td>77.000000</td>\n      <td>2.000000</td>\n      <td>188766</td>\n      <td>8288</td>\n    </tr>\n    <tr>\n      <th>188767</th>\n      <td>LIB193266</td>\n      <td>2022-03-21</td>\n      <td>11:54:00</td>\n      <td>80</td>\n      <td>2022-03-21 11:54:00</td>\n      <td>2022-03-21 11:39:00</td>\n      <td>15.000000</td>\n      <td>79.000000</td>\n      <td>1.000000</td>\n      <td>188767</td>\n      <td>8288</td>\n    </tr>\n    <tr>\n      <th>188768</th>\n      <td>LIB193266</td>\n      <td>2022-03-21</td>\n      <td>12:09:00</td>\n      <td>82</td>\n      <td>2022-03-21 12:09:00</td>\n      <td>2022-03-21 11:54:00</td>\n      <td>15.000000</td>\n      <td>80.000000</td>\n      <td>2.000000</td>\n      <td>188768</td>\n      <td>8288</td>\n    </tr>\n  </tbody>\n</table>\n<p>49443 rows × 11 columns</p>\n</div>"
     },
     "execution_count": 310,
     "metadata": {},
     "output_type": "execute_result"
    }
   ],
   "source": [
    "df_glucose_lag[(df_glucose_lag['Patient_ID'] == 'LIB193266') & (df_glucose_lag['t'] > '2020-12-12 05:10:00')]"
   ],
   "metadata": {
    "collapsed": false
   }
  },
  {
   "cell_type": "code",
   "execution_count": 297,
   "outputs": [
    {
     "data": {
      "text/plain": "        Patient_ID Measurement_date Measurement_time  Measurement  \\\n12805    LIB193263       2020-10-25         02:02:00          197   \n12807    LIB193263       2020-10-25         02:17:00          194   \n12809    LIB193263       2020-10-25         02:32:00          194   \n12811    LIB193263       2020-10-25         02:47:00          204   \n37989    LIB193263       2021-07-24         16:32:00          181   \n...            ...              ...              ...          ...   \n2984785  LIB193423       2021-11-13         21:12:00           91   \n2994118  LIB193424       2021-10-31         02:11:00          196   \n2994120  LIB193424       2021-10-31         02:26:00          207   \n2994122  LIB193424       2021-10-31         02:41:00          220   \n2994124  LIB193424       2021-10-31         02:56:00          225   \n\n                          t                 t-1  Minutes_diff  Measurement-1  \\\n12805   2020-10-25 02:02:00 2020-10-25 02:02:00      0.000000     221.000000   \n12807   2020-10-25 02:17:00 2020-10-25 02:17:00      0.000000     218.000000   \n12809   2020-10-25 02:32:00 2020-10-25 02:32:00      0.000000     211.000000   \n12811   2020-10-25 02:47:00 2020-10-25 02:47:00      0.000000     192.000000   \n37989   2021-07-24 16:32:00 2021-07-24 16:30:00      2.000000     231.000000   \n...                     ...                 ...           ...            ...   \n2984785 2021-11-13 21:12:00 2021-11-13 21:10:00      2.000000      88.000000   \n2994118 2021-10-31 02:11:00 2021-10-31 02:11:00      0.000000     191.000000   \n2994120 2021-10-31 02:26:00 2021-10-31 02:26:00      0.000000     185.000000   \n2994122 2021-10-31 02:41:00 2021-10-31 02:41:00      0.000000     188.000000   \n2994124 2021-10-31 02:56:00 2021-10-31 02:56:00      0.000000     193.000000   \n\n         Measurement_diff    index  Frequency  \n12805           24.000000    12805        607  \n12807           24.000000    12807        607  \n12809           17.000000    12809        607  \n12811           12.000000    12811        607  \n37989           50.000000    37989       1788  \n...                   ...      ...        ...  \n2984785          3.000000  2984785     166320  \n2994118          5.000000  2994118     166830  \n2994120         22.000000  2994120     166830  \n2994122         32.000000  2994122     166830  \n2994124         32.000000  2994124     166830  \n\n[29969 rows x 11 columns]",
      "text/html": "<div>\n<style scoped>\n    .dataframe tbody tr th:only-of-type {\n        vertical-align: middle;\n    }\n\n    .dataframe tbody tr th {\n        vertical-align: top;\n    }\n\n    .dataframe thead th {\n        text-align: right;\n    }\n</style>\n<table border=\"1\" class=\"dataframe\">\n  <thead>\n    <tr style=\"text-align: right;\">\n      <th></th>\n      <th>Patient_ID</th>\n      <th>Measurement_date</th>\n      <th>Measurement_time</th>\n      <th>Measurement</th>\n      <th>t</th>\n      <th>t-1</th>\n      <th>Minutes_diff</th>\n      <th>Measurement-1</th>\n      <th>Measurement_diff</th>\n      <th>index</th>\n      <th>Frequency</th>\n    </tr>\n  </thead>\n  <tbody>\n    <tr>\n      <th>12805</th>\n      <td>LIB193263</td>\n      <td>2020-10-25</td>\n      <td>02:02:00</td>\n      <td>197</td>\n      <td>2020-10-25 02:02:00</td>\n      <td>2020-10-25 02:02:00</td>\n      <td>0.000000</td>\n      <td>221.000000</td>\n      <td>24.000000</td>\n      <td>12805</td>\n      <td>607</td>\n    </tr>\n    <tr>\n      <th>12807</th>\n      <td>LIB193263</td>\n      <td>2020-10-25</td>\n      <td>02:17:00</td>\n      <td>194</td>\n      <td>2020-10-25 02:17:00</td>\n      <td>2020-10-25 02:17:00</td>\n      <td>0.000000</td>\n      <td>218.000000</td>\n      <td>24.000000</td>\n      <td>12807</td>\n      <td>607</td>\n    </tr>\n    <tr>\n      <th>12809</th>\n      <td>LIB193263</td>\n      <td>2020-10-25</td>\n      <td>02:32:00</td>\n      <td>194</td>\n      <td>2020-10-25 02:32:00</td>\n      <td>2020-10-25 02:32:00</td>\n      <td>0.000000</td>\n      <td>211.000000</td>\n      <td>17.000000</td>\n      <td>12809</td>\n      <td>607</td>\n    </tr>\n    <tr>\n      <th>12811</th>\n      <td>LIB193263</td>\n      <td>2020-10-25</td>\n      <td>02:47:00</td>\n      <td>204</td>\n      <td>2020-10-25 02:47:00</td>\n      <td>2020-10-25 02:47:00</td>\n      <td>0.000000</td>\n      <td>192.000000</td>\n      <td>12.000000</td>\n      <td>12811</td>\n      <td>607</td>\n    </tr>\n    <tr>\n      <th>37989</th>\n      <td>LIB193263</td>\n      <td>2021-07-24</td>\n      <td>16:32:00</td>\n      <td>181</td>\n      <td>2021-07-24 16:32:00</td>\n      <td>2021-07-24 16:30:00</td>\n      <td>2.000000</td>\n      <td>231.000000</td>\n      <td>50.000000</td>\n      <td>37989</td>\n      <td>1788</td>\n    </tr>\n    <tr>\n      <th>...</th>\n      <td>...</td>\n      <td>...</td>\n      <td>...</td>\n      <td>...</td>\n      <td>...</td>\n      <td>...</td>\n      <td>...</td>\n      <td>...</td>\n      <td>...</td>\n      <td>...</td>\n      <td>...</td>\n    </tr>\n    <tr>\n      <th>2984785</th>\n      <td>LIB193423</td>\n      <td>2021-11-13</td>\n      <td>21:12:00</td>\n      <td>91</td>\n      <td>2021-11-13 21:12:00</td>\n      <td>2021-11-13 21:10:00</td>\n      <td>2.000000</td>\n      <td>88.000000</td>\n      <td>3.000000</td>\n      <td>2984785</td>\n      <td>166320</td>\n    </tr>\n    <tr>\n      <th>2994118</th>\n      <td>LIB193424</td>\n      <td>2021-10-31</td>\n      <td>02:11:00</td>\n      <td>196</td>\n      <td>2021-10-31 02:11:00</td>\n      <td>2021-10-31 02:11:00</td>\n      <td>0.000000</td>\n      <td>191.000000</td>\n      <td>5.000000</td>\n      <td>2994118</td>\n      <td>166830</td>\n    </tr>\n    <tr>\n      <th>2994120</th>\n      <td>LIB193424</td>\n      <td>2021-10-31</td>\n      <td>02:26:00</td>\n      <td>207</td>\n      <td>2021-10-31 02:26:00</td>\n      <td>2021-10-31 02:26:00</td>\n      <td>0.000000</td>\n      <td>185.000000</td>\n      <td>22.000000</td>\n      <td>2994120</td>\n      <td>166830</td>\n    </tr>\n    <tr>\n      <th>2994122</th>\n      <td>LIB193424</td>\n      <td>2021-10-31</td>\n      <td>02:41:00</td>\n      <td>220</td>\n      <td>2021-10-31 02:41:00</td>\n      <td>2021-10-31 02:41:00</td>\n      <td>0.000000</td>\n      <td>188.000000</td>\n      <td>32.000000</td>\n      <td>2994122</td>\n      <td>166830</td>\n    </tr>\n    <tr>\n      <th>2994124</th>\n      <td>LIB193424</td>\n      <td>2021-10-31</td>\n      <td>02:56:00</td>\n      <td>225</td>\n      <td>2021-10-31 02:56:00</td>\n      <td>2021-10-31 02:56:00</td>\n      <td>0.000000</td>\n      <td>193.000000</td>\n      <td>32.000000</td>\n      <td>2994124</td>\n      <td>166830</td>\n    </tr>\n  </tbody>\n</table>\n<p>29969 rows × 11 columns</p>\n</div>"
     },
     "execution_count": 297,
     "metadata": {},
     "output_type": "execute_result"
    }
   ],
   "source": [
    "df_glucose_lag[df_glucose_lag['Minutes_diff'] < 5]"
   ],
   "metadata": {
    "collapsed": false
   }
  },
  {
   "cell_type": "code",
   "execution_count": 304,
   "outputs": [
    {
     "data": {
      "text/plain": "        Patient_ID Measurement_date Measurement_time  Measurement  \\\n139362   LIB193266       2020-12-12         11:10:00          178   \n139364   LIB193266       2020-12-12         11:25:00          189   \n139366   LIB193266       2020-12-12         11:40:00          171   \n139368   LIB193266       2020-12-12         11:55:00          133   \n139372   LIB193266       2020-12-12         12:25:00           81   \n...            ...              ...              ...          ...   \n2918547  LIB193416       2022-03-07         10:29:00          126   \n2918549  LIB193416       2022-03-07         10:44:00          113   \n2918551  LIB193416       2022-03-07         10:59:00           99   \n2918553  LIB193416       2022-03-07         11:14:00           86   \n2918555  LIB193416       2022-03-07         11:30:00           74   \n\n                          t                 t-1  Minutes_diff  Measurement-1  \\\n139362  2020-12-12 11:10:00 2020-12-12 11:00:00     10.000000     144.000000   \n139364  2020-12-12 11:25:00 2020-12-12 11:15:00     10.000000     178.000000   \n139366  2020-12-12 11:40:00 2020-12-12 11:30:00     10.000000     190.000000   \n139368  2020-12-12 11:55:00 2020-12-12 11:45:00     10.000000     164.000000   \n139372  2020-12-12 12:25:00 2020-12-12 12:15:00     10.000000      84.000000   \n...                     ...                 ...           ...            ...   \n2918547 2022-03-07 10:29:00 2022-03-07 10:19:00     10.000000     176.000000   \n2918549 2022-03-07 10:44:00 2022-03-07 10:34:00     10.000000     205.000000   \n2918551 2022-03-07 10:59:00 2022-03-07 10:49:00     10.000000     222.000000   \n2918553 2022-03-07 11:14:00 2022-03-07 11:04:00     10.000000     214.000000   \n2918555 2022-03-07 11:30:00 2022-03-07 11:20:00     10.000000     210.000000   \n\n         Measurement_diff    index  Frequency  \n139362          34.000000   139362       6513  \n139364          11.000000   139364       6513  \n139366          19.000000   139366       6513  \n139368          31.000000   139368       6513  \n139372           3.000000   139372       6513  \n...                   ...      ...        ...  \n2918547         50.000000  2918547     161896  \n2918549         92.000000  2918549     161896  \n2918551        123.000000  2918551     161896  \n2918553        128.000000  2918553     161896  \n2918555        136.000000  2918555     161896  \n\n[9274 rows x 11 columns]",
      "text/html": "<div>\n<style scoped>\n    .dataframe tbody tr th:only-of-type {\n        vertical-align: middle;\n    }\n\n    .dataframe tbody tr th {\n        vertical-align: top;\n    }\n\n    .dataframe thead th {\n        text-align: right;\n    }\n</style>\n<table border=\"1\" class=\"dataframe\">\n  <thead>\n    <tr style=\"text-align: right;\">\n      <th></th>\n      <th>Patient_ID</th>\n      <th>Measurement_date</th>\n      <th>Measurement_time</th>\n      <th>Measurement</th>\n      <th>t</th>\n      <th>t-1</th>\n      <th>Minutes_diff</th>\n      <th>Measurement-1</th>\n      <th>Measurement_diff</th>\n      <th>index</th>\n      <th>Frequency</th>\n    </tr>\n  </thead>\n  <tbody>\n    <tr>\n      <th>139362</th>\n      <td>LIB193266</td>\n      <td>2020-12-12</td>\n      <td>11:10:00</td>\n      <td>178</td>\n      <td>2020-12-12 11:10:00</td>\n      <td>2020-12-12 11:00:00</td>\n      <td>10.000000</td>\n      <td>144.000000</td>\n      <td>34.000000</td>\n      <td>139362</td>\n      <td>6513</td>\n    </tr>\n    <tr>\n      <th>139364</th>\n      <td>LIB193266</td>\n      <td>2020-12-12</td>\n      <td>11:25:00</td>\n      <td>189</td>\n      <td>2020-12-12 11:25:00</td>\n      <td>2020-12-12 11:15:00</td>\n      <td>10.000000</td>\n      <td>178.000000</td>\n      <td>11.000000</td>\n      <td>139364</td>\n      <td>6513</td>\n    </tr>\n    <tr>\n      <th>139366</th>\n      <td>LIB193266</td>\n      <td>2020-12-12</td>\n      <td>11:40:00</td>\n      <td>171</td>\n      <td>2020-12-12 11:40:00</td>\n      <td>2020-12-12 11:30:00</td>\n      <td>10.000000</td>\n      <td>190.000000</td>\n      <td>19.000000</td>\n      <td>139366</td>\n      <td>6513</td>\n    </tr>\n    <tr>\n      <th>139368</th>\n      <td>LIB193266</td>\n      <td>2020-12-12</td>\n      <td>11:55:00</td>\n      <td>133</td>\n      <td>2020-12-12 11:55:00</td>\n      <td>2020-12-12 11:45:00</td>\n      <td>10.000000</td>\n      <td>164.000000</td>\n      <td>31.000000</td>\n      <td>139368</td>\n      <td>6513</td>\n    </tr>\n    <tr>\n      <th>139372</th>\n      <td>LIB193266</td>\n      <td>2020-12-12</td>\n      <td>12:25:00</td>\n      <td>81</td>\n      <td>2020-12-12 12:25:00</td>\n      <td>2020-12-12 12:15:00</td>\n      <td>10.000000</td>\n      <td>84.000000</td>\n      <td>3.000000</td>\n      <td>139372</td>\n      <td>6513</td>\n    </tr>\n    <tr>\n      <th>...</th>\n      <td>...</td>\n      <td>...</td>\n      <td>...</td>\n      <td>...</td>\n      <td>...</td>\n      <td>...</td>\n      <td>...</td>\n      <td>...</td>\n      <td>...</td>\n      <td>...</td>\n      <td>...</td>\n    </tr>\n    <tr>\n      <th>2918547</th>\n      <td>LIB193416</td>\n      <td>2022-03-07</td>\n      <td>10:29:00</td>\n      <td>126</td>\n      <td>2022-03-07 10:29:00</td>\n      <td>2022-03-07 10:19:00</td>\n      <td>10.000000</td>\n      <td>176.000000</td>\n      <td>50.000000</td>\n      <td>2918547</td>\n      <td>161896</td>\n    </tr>\n    <tr>\n      <th>2918549</th>\n      <td>LIB193416</td>\n      <td>2022-03-07</td>\n      <td>10:44:00</td>\n      <td>113</td>\n      <td>2022-03-07 10:44:00</td>\n      <td>2022-03-07 10:34:00</td>\n      <td>10.000000</td>\n      <td>205.000000</td>\n      <td>92.000000</td>\n      <td>2918549</td>\n      <td>161896</td>\n    </tr>\n    <tr>\n      <th>2918551</th>\n      <td>LIB193416</td>\n      <td>2022-03-07</td>\n      <td>10:59:00</td>\n      <td>99</td>\n      <td>2022-03-07 10:59:00</td>\n      <td>2022-03-07 10:49:00</td>\n      <td>10.000000</td>\n      <td>222.000000</td>\n      <td>123.000000</td>\n      <td>2918551</td>\n      <td>161896</td>\n    </tr>\n    <tr>\n      <th>2918553</th>\n      <td>LIB193416</td>\n      <td>2022-03-07</td>\n      <td>11:14:00</td>\n      <td>86</td>\n      <td>2022-03-07 11:14:00</td>\n      <td>2022-03-07 11:04:00</td>\n      <td>10.000000</td>\n      <td>214.000000</td>\n      <td>128.000000</td>\n      <td>2918553</td>\n      <td>161896</td>\n    </tr>\n    <tr>\n      <th>2918555</th>\n      <td>LIB193416</td>\n      <td>2022-03-07</td>\n      <td>11:30:00</td>\n      <td>74</td>\n      <td>2022-03-07 11:30:00</td>\n      <td>2022-03-07 11:20:00</td>\n      <td>10.000000</td>\n      <td>210.000000</td>\n      <td>136.000000</td>\n      <td>2918555</td>\n      <td>161896</td>\n    </tr>\n  </tbody>\n</table>\n<p>9274 rows × 11 columns</p>\n</div>"
     },
     "execution_count": 304,
     "metadata": {},
     "output_type": "execute_result"
    }
   ],
   "source": [
    "df_glucose_lag[df_glucose_lag['Minutes_diff'] == 10]"
   ],
   "metadata": {
    "collapsed": false
   }
  },
  {
   "cell_type": "code",
   "execution_count": 311,
   "outputs": [
    {
     "data": {
      "text/plain": "                         t Patient_ID  Measurement  Minutes_diff  \\\n139193 2020-12-12 05:15:00  LIB193266   203.000000     15.000000   \n139194 2020-12-12 05:30:00  LIB193266   209.000000     15.000000   \n139195 2020-12-12 05:45:00  LIB193266   207.000000     15.000000   \n139196 2020-12-12 06:00:00  LIB193266   193.000000     15.000000   \n139197 2020-12-12 06:15:00  LIB193266   177.000000     15.000000   \n...                    ...        ...          ...           ...   \n177743 2022-03-21 11:00:00  LIB193266    76.000000     15.000000   \n177744 2022-03-21 11:15:00  LIB193266    77.000000     15.000000   \n177745 2022-03-21 11:30:00  LIB193266    79.000000     15.000000   \n177746 2022-03-21 11:45:00  LIB193266    80.000000     15.000000   \n177747 2022-03-21 12:00:00  LIB193266    82.000000     15.000000   \n\n        Measurement-1  Measurement_diff         index   Frequency  \\\n139193     205.000000          2.000000 139326.000000 6513.000000   \n139194     203.000000          6.000000 139327.000000 6513.000000   \n139195     209.000000          2.000000 139328.000000 6513.000000   \n139196     207.000000         14.000000 139329.000000 6513.000000   \n139197     193.000000         16.000000 139330.000000 6513.000000   \n...               ...               ...           ...         ...   \n177743      78.000000          2.000000 188764.000000 8288.000000   \n177744      76.000000          1.000000 188765.000000 8288.000000   \n177745      77.000000          2.000000 188766.000000 8288.000000   \n177746      79.000000          1.000000 188767.000000 8288.000000   \n177747      80.000000          2.000000 188768.000000 8288.000000   \n\n                       t-1  \n139193 2020-12-12 05:00:00  \n139194 2020-12-12 05:15:00  \n139195 2020-12-12 05:30:00  \n139196 2020-12-12 05:45:00  \n139197 2020-12-12 06:00:00  \n...                    ...  \n177743 2022-03-21 10:45:00  \n177744 2022-03-21 11:00:00  \n177745 2022-03-21 11:15:00  \n177746 2022-03-21 11:30:00  \n177747 2022-03-21 11:45:00  \n\n[38555 rows x 9 columns]",
      "text/html": "<div>\n<style scoped>\n    .dataframe tbody tr th:only-of-type {\n        vertical-align: middle;\n    }\n\n    .dataframe tbody tr th {\n        vertical-align: top;\n    }\n\n    .dataframe thead th {\n        text-align: right;\n    }\n</style>\n<table border=\"1\" class=\"dataframe\">\n  <thead>\n    <tr style=\"text-align: right;\">\n      <th></th>\n      <th>t</th>\n      <th>Patient_ID</th>\n      <th>Measurement</th>\n      <th>Minutes_diff</th>\n      <th>Measurement-1</th>\n      <th>Measurement_diff</th>\n      <th>index</th>\n      <th>Frequency</th>\n      <th>t-1</th>\n    </tr>\n  </thead>\n  <tbody>\n    <tr>\n      <th>139193</th>\n      <td>2020-12-12 05:15:00</td>\n      <td>LIB193266</td>\n      <td>203.000000</td>\n      <td>15.000000</td>\n      <td>205.000000</td>\n      <td>2.000000</td>\n      <td>139326.000000</td>\n      <td>6513.000000</td>\n      <td>2020-12-12 05:00:00</td>\n    </tr>\n    <tr>\n      <th>139194</th>\n      <td>2020-12-12 05:30:00</td>\n      <td>LIB193266</td>\n      <td>209.000000</td>\n      <td>15.000000</td>\n      <td>203.000000</td>\n      <td>6.000000</td>\n      <td>139327.000000</td>\n      <td>6513.000000</td>\n      <td>2020-12-12 05:15:00</td>\n    </tr>\n    <tr>\n      <th>139195</th>\n      <td>2020-12-12 05:45:00</td>\n      <td>LIB193266</td>\n      <td>207.000000</td>\n      <td>15.000000</td>\n      <td>209.000000</td>\n      <td>2.000000</td>\n      <td>139328.000000</td>\n      <td>6513.000000</td>\n      <td>2020-12-12 05:30:00</td>\n    </tr>\n    <tr>\n      <th>139196</th>\n      <td>2020-12-12 06:00:00</td>\n      <td>LIB193266</td>\n      <td>193.000000</td>\n      <td>15.000000</td>\n      <td>207.000000</td>\n      <td>14.000000</td>\n      <td>139329.000000</td>\n      <td>6513.000000</td>\n      <td>2020-12-12 05:45:00</td>\n    </tr>\n    <tr>\n      <th>139197</th>\n      <td>2020-12-12 06:15:00</td>\n      <td>LIB193266</td>\n      <td>177.000000</td>\n      <td>15.000000</td>\n      <td>193.000000</td>\n      <td>16.000000</td>\n      <td>139330.000000</td>\n      <td>6513.000000</td>\n      <td>2020-12-12 06:00:00</td>\n    </tr>\n    <tr>\n      <th>...</th>\n      <td>...</td>\n      <td>...</td>\n      <td>...</td>\n      <td>...</td>\n      <td>...</td>\n      <td>...</td>\n      <td>...</td>\n      <td>...</td>\n      <td>...</td>\n    </tr>\n    <tr>\n      <th>177743</th>\n      <td>2022-03-21 11:00:00</td>\n      <td>LIB193266</td>\n      <td>76.000000</td>\n      <td>15.000000</td>\n      <td>78.000000</td>\n      <td>2.000000</td>\n      <td>188764.000000</td>\n      <td>8288.000000</td>\n      <td>2022-03-21 10:45:00</td>\n    </tr>\n    <tr>\n      <th>177744</th>\n      <td>2022-03-21 11:15:00</td>\n      <td>LIB193266</td>\n      <td>77.000000</td>\n      <td>15.000000</td>\n      <td>76.000000</td>\n      <td>1.000000</td>\n      <td>188765.000000</td>\n      <td>8288.000000</td>\n      <td>2022-03-21 11:00:00</td>\n    </tr>\n    <tr>\n      <th>177745</th>\n      <td>2022-03-21 11:30:00</td>\n      <td>LIB193266</td>\n      <td>79.000000</td>\n      <td>15.000000</td>\n      <td>77.000000</td>\n      <td>2.000000</td>\n      <td>188766.000000</td>\n      <td>8288.000000</td>\n      <td>2022-03-21 11:15:00</td>\n    </tr>\n    <tr>\n      <th>177746</th>\n      <td>2022-03-21 11:45:00</td>\n      <td>LIB193266</td>\n      <td>80.000000</td>\n      <td>15.000000</td>\n      <td>79.000000</td>\n      <td>1.000000</td>\n      <td>188767.000000</td>\n      <td>8288.000000</td>\n      <td>2022-03-21 11:30:00</td>\n    </tr>\n    <tr>\n      <th>177747</th>\n      <td>2022-03-21 12:00:00</td>\n      <td>LIB193266</td>\n      <td>82.000000</td>\n      <td>15.000000</td>\n      <td>80.000000</td>\n      <td>2.000000</td>\n      <td>188768.000000</td>\n      <td>8288.000000</td>\n      <td>2022-03-21 11:45:00</td>\n    </tr>\n  </tbody>\n</table>\n<p>38555 rows × 9 columns</p>\n</div>"
     },
     "execution_count": 311,
     "metadata": {},
     "output_type": "execute_result"
    }
   ],
   "source": [
    "df_downsampled[(df_downsampled['Patient_ID'] == 'LIB193266') & (df_downsampled['t'] > '2020-12-12 05:10:00') ]"
   ],
   "metadata": {
    "collapsed": false
   }
  },
  {
   "cell_type": "markdown",
   "source": [
    "# Gaps treatment (Upsampling)"
   ],
   "metadata": {
    "collapsed": false
   }
  },
  {
   "cell_type": "code",
   "execution_count": 313,
   "outputs": [],
   "source": [
    "# Dropping unnecessary cols\n",
    "df_downsampled = df_downsampled.drop('index', axis = 1)\n",
    "df_downsampled = df_downsampled.drop('Frequency', axis = 1)"
   ],
   "metadata": {
    "collapsed": false
   }
  },
  {
   "cell_type": "code",
   "execution_count": 319,
   "outputs": [
    {
     "data": {
      "text/plain": "                    Patient_ID  Measurement  Minutes_diff  Measurement-1  \\\nt                                                                          \n2020-06-09 19:00:00  LIB193263    99.000000           NaN            NaN   \n2020-06-09 19:15:00  LIB193263    92.000000     15.000000      99.000000   \n2020-06-09 19:30:00  LIB193263    86.000000     15.000000      92.000000   \n2020-06-09 19:45:00  LIB193263    85.000000     15.000000      86.000000   \n2020-06-09 20:00:00  LIB193263    85.000000     15.000000      85.000000   \n...                        ...          ...           ...            ...   \n2022-01-02 01:00:00  LIB193424   207.000000     15.000000     186.000000   \n2022-01-02 01:15:00  LIB193424   215.000000     15.000000     207.000000   \n2022-01-02 01:30:00  LIB193424   218.000000     15.000000     215.000000   \n2022-01-02 01:45:00  LIB193424   222.000000     15.000000     218.000000   \n2022-01-02 02:00:00  LIB193424   220.000000     15.000000     222.000000   \n\n                     Measurement_diff                 t-1  \nt                                                          \n2020-06-09 19:00:00               NaN                 NaT  \n2020-06-09 19:15:00          7.000000 2020-06-09 19:00:00  \n2020-06-09 19:30:00          6.000000 2020-06-09 19:15:00  \n2020-06-09 19:45:00          1.000000 2020-06-09 19:30:00  \n2020-06-09 20:00:00          0.000000 2020-06-09 19:45:00  \n...                               ...                 ...  \n2022-01-02 01:00:00         21.000000 2022-01-02 00:45:00  \n2022-01-02 01:15:00          8.000000 2022-01-02 01:00:00  \n2022-01-02 01:30:00          3.000000 2022-01-02 01:15:00  \n2022-01-02 01:45:00          4.000000 2022-01-02 01:30:00  \n2022-01-02 02:00:00          2.000000 2022-01-02 01:45:00  \n\n[2943964 rows x 6 columns]",
      "text/html": "<div>\n<style scoped>\n    .dataframe tbody tr th:only-of-type {\n        vertical-align: middle;\n    }\n\n    .dataframe tbody tr th {\n        vertical-align: top;\n    }\n\n    .dataframe thead th {\n        text-align: right;\n    }\n</style>\n<table border=\"1\" class=\"dataframe\">\n  <thead>\n    <tr style=\"text-align: right;\">\n      <th></th>\n      <th>Patient_ID</th>\n      <th>Measurement</th>\n      <th>Minutes_diff</th>\n      <th>Measurement-1</th>\n      <th>Measurement_diff</th>\n      <th>t-1</th>\n    </tr>\n    <tr>\n      <th>t</th>\n      <th></th>\n      <th></th>\n      <th></th>\n      <th></th>\n      <th></th>\n      <th></th>\n    </tr>\n  </thead>\n  <tbody>\n    <tr>\n      <th>2020-06-09 19:00:00</th>\n      <td>LIB193263</td>\n      <td>99.000000</td>\n      <td>NaN</td>\n      <td>NaN</td>\n      <td>NaN</td>\n      <td>NaT</td>\n    </tr>\n    <tr>\n      <th>2020-06-09 19:15:00</th>\n      <td>LIB193263</td>\n      <td>92.000000</td>\n      <td>15.000000</td>\n      <td>99.000000</td>\n      <td>7.000000</td>\n      <td>2020-06-09 19:00:00</td>\n    </tr>\n    <tr>\n      <th>2020-06-09 19:30:00</th>\n      <td>LIB193263</td>\n      <td>86.000000</td>\n      <td>15.000000</td>\n      <td>92.000000</td>\n      <td>6.000000</td>\n      <td>2020-06-09 19:15:00</td>\n    </tr>\n    <tr>\n      <th>2020-06-09 19:45:00</th>\n      <td>LIB193263</td>\n      <td>85.000000</td>\n      <td>15.000000</td>\n      <td>86.000000</td>\n      <td>1.000000</td>\n      <td>2020-06-09 19:30:00</td>\n    </tr>\n    <tr>\n      <th>2020-06-09 20:00:00</th>\n      <td>LIB193263</td>\n      <td>85.000000</td>\n      <td>15.000000</td>\n      <td>85.000000</td>\n      <td>0.000000</td>\n      <td>2020-06-09 19:45:00</td>\n    </tr>\n    <tr>\n      <th>...</th>\n      <td>...</td>\n      <td>...</td>\n      <td>...</td>\n      <td>...</td>\n      <td>...</td>\n      <td>...</td>\n    </tr>\n    <tr>\n      <th>2022-01-02 01:00:00</th>\n      <td>LIB193424</td>\n      <td>207.000000</td>\n      <td>15.000000</td>\n      <td>186.000000</td>\n      <td>21.000000</td>\n      <td>2022-01-02 00:45:00</td>\n    </tr>\n    <tr>\n      <th>2022-01-02 01:15:00</th>\n      <td>LIB193424</td>\n      <td>215.000000</td>\n      <td>15.000000</td>\n      <td>207.000000</td>\n      <td>8.000000</td>\n      <td>2022-01-02 01:00:00</td>\n    </tr>\n    <tr>\n      <th>2022-01-02 01:30:00</th>\n      <td>LIB193424</td>\n      <td>218.000000</td>\n      <td>15.000000</td>\n      <td>215.000000</td>\n      <td>3.000000</td>\n      <td>2022-01-02 01:15:00</td>\n    </tr>\n    <tr>\n      <th>2022-01-02 01:45:00</th>\n      <td>LIB193424</td>\n      <td>222.000000</td>\n      <td>15.000000</td>\n      <td>218.000000</td>\n      <td>4.000000</td>\n      <td>2022-01-02 01:30:00</td>\n    </tr>\n    <tr>\n      <th>2022-01-02 02:00:00</th>\n      <td>LIB193424</td>\n      <td>220.000000</td>\n      <td>15.000000</td>\n      <td>222.000000</td>\n      <td>2.000000</td>\n      <td>2022-01-02 01:45:00</td>\n    </tr>\n  </tbody>\n</table>\n<p>2943964 rows × 6 columns</p>\n</div>"
     },
     "execution_count": 319,
     "metadata": {},
     "output_type": "execute_result"
    }
   ],
   "source": [
    "# Set time as an index\n",
    "df_glucose_t = df_downsampled.set_index('t')\n",
    "df_glucose_t"
   ],
   "metadata": {
    "collapsed": false
   }
  },
  {
   "cell_type": "code",
   "execution_count": 318,
   "outputs": [
    {
     "data": {
      "text/plain": "                                Measurement  Minutes_diff  Measurement-1  \\\nPatient_ID t                                                               \nLIB193263  2020-06-09 19:00:00    99.000000           NaN            NaN   \n           2020-06-09 19:15:00    92.000000     15.000000      99.000000   \n           2020-06-09 19:30:00    86.000000     15.000000      92.000000   \n           2020-06-09 19:45:00    85.000000     15.000000      86.000000   \n           2020-06-09 20:00:00    85.000000     15.000000      85.000000   \n...                                     ...           ...            ...   \nLIB193424  2022-01-02 01:00:00   207.000000     15.000000     186.000000   \n           2022-01-02 01:15:00   215.000000     15.000000     207.000000   \n           2022-01-02 01:30:00   218.000000     15.000000     215.000000   \n           2022-01-02 01:45:00   222.000000     15.000000     218.000000   \n           2022-01-02 02:00:00   220.000000     15.000000     222.000000   \n\n                                Measurement_diff  \nPatient_ID t                                      \nLIB193263  2020-06-09 19:00:00               NaN  \n           2020-06-09 19:15:00          7.000000  \n           2020-06-09 19:30:00          6.000000  \n           2020-06-09 19:45:00          1.000000  \n           2020-06-09 20:00:00          0.000000  \n...                                          ...  \nLIB193424  2022-01-02 01:00:00         21.000000  \n           2022-01-02 01:15:00          8.000000  \n           2022-01-02 01:30:00          3.000000  \n           2022-01-02 01:45:00          4.000000  \n           2022-01-02 02:00:00          2.000000  \n\n[4090911 rows x 4 columns]",
      "text/html": "<div>\n<style scoped>\n    .dataframe tbody tr th:only-of-type {\n        vertical-align: middle;\n    }\n\n    .dataframe tbody tr th {\n        vertical-align: top;\n    }\n\n    .dataframe thead th {\n        text-align: right;\n    }\n</style>\n<table border=\"1\" class=\"dataframe\">\n  <thead>\n    <tr style=\"text-align: right;\">\n      <th></th>\n      <th></th>\n      <th>Measurement</th>\n      <th>Minutes_diff</th>\n      <th>Measurement-1</th>\n      <th>Measurement_diff</th>\n    </tr>\n    <tr>\n      <th>Patient_ID</th>\n      <th>t</th>\n      <th></th>\n      <th></th>\n      <th></th>\n      <th></th>\n    </tr>\n  </thead>\n  <tbody>\n    <tr>\n      <th rowspan=\"5\" valign=\"top\">LIB193263</th>\n      <th>2020-06-09 19:00:00</th>\n      <td>99.000000</td>\n      <td>NaN</td>\n      <td>NaN</td>\n      <td>NaN</td>\n    </tr>\n    <tr>\n      <th>2020-06-09 19:15:00</th>\n      <td>92.000000</td>\n      <td>15.000000</td>\n      <td>99.000000</td>\n      <td>7.000000</td>\n    </tr>\n    <tr>\n      <th>2020-06-09 19:30:00</th>\n      <td>86.000000</td>\n      <td>15.000000</td>\n      <td>92.000000</td>\n      <td>6.000000</td>\n    </tr>\n    <tr>\n      <th>2020-06-09 19:45:00</th>\n      <td>85.000000</td>\n      <td>15.000000</td>\n      <td>86.000000</td>\n      <td>1.000000</td>\n    </tr>\n    <tr>\n      <th>2020-06-09 20:00:00</th>\n      <td>85.000000</td>\n      <td>15.000000</td>\n      <td>85.000000</td>\n      <td>0.000000</td>\n    </tr>\n    <tr>\n      <th>...</th>\n      <th>...</th>\n      <td>...</td>\n      <td>...</td>\n      <td>...</td>\n      <td>...</td>\n    </tr>\n    <tr>\n      <th rowspan=\"5\" valign=\"top\">LIB193424</th>\n      <th>2022-01-02 01:00:00</th>\n      <td>207.000000</td>\n      <td>15.000000</td>\n      <td>186.000000</td>\n      <td>21.000000</td>\n    </tr>\n    <tr>\n      <th>2022-01-02 01:15:00</th>\n      <td>215.000000</td>\n      <td>15.000000</td>\n      <td>207.000000</td>\n      <td>8.000000</td>\n    </tr>\n    <tr>\n      <th>2022-01-02 01:30:00</th>\n      <td>218.000000</td>\n      <td>15.000000</td>\n      <td>215.000000</td>\n      <td>3.000000</td>\n    </tr>\n    <tr>\n      <th>2022-01-02 01:45:00</th>\n      <td>222.000000</td>\n      <td>15.000000</td>\n      <td>218.000000</td>\n      <td>4.000000</td>\n    </tr>\n    <tr>\n      <th>2022-01-02 02:00:00</th>\n      <td>220.000000</td>\n      <td>15.000000</td>\n      <td>222.000000</td>\n      <td>2.000000</td>\n    </tr>\n  </tbody>\n</table>\n<p>4090911 rows × 4 columns</p>\n</div>"
     },
     "execution_count": 318,
     "metadata": {},
     "output_type": "execute_result"
    }
   ],
   "source": [
    "#Upsampling\n",
    "df_glucose_upsampled = df_glucose_t.groupby([\"Patient_ID\"]).resample(\"15T\").mean()\n",
    "df_glucose_upsampled"
   ],
   "metadata": {
    "collapsed": false
   }
  },
  {
   "cell_type": "code",
   "execution_count": 337,
   "outputs": [],
   "source": [
    "# Undo grouping and index\n",
    "df_glucose_upsampled = df_glucose_upsampled.reset_index(level=0)\n",
    "df_glucose_upsampled = df_glucose_upsampled.reset_index()\n"
   ],
   "metadata": {
    "collapsed": false
   }
  },
  {
   "cell_type": "code",
   "execution_count": 338,
   "outputs": [
    {
     "data": {
      "text/plain": "                          t Patient_ID  Measurement  Minutes_diff  \\\n1792832 2019-09-19 14:00:00  LIB193335   176.000000     15.000000   \n1792833 2019-09-19 14:15:00  LIB193335   135.000000     15.000000   \n1792834 2019-09-19 14:30:00  LIB193335   108.000000     15.000000   \n1792835 2019-09-19 14:45:00  LIB193335    89.000000     15.000000   \n1792836 2019-09-19 15:00:00  LIB193335    82.000000     15.000000   \n...                     ...        ...          ...           ...   \n1869933 2021-11-30 17:15:00  LIB193335   182.000000     15.000000   \n1869934 2021-11-30 17:30:00  LIB193335   177.000000     15.000000   \n1869935 2021-11-30 17:45:00  LIB193335   154.000000     15.000000   \n1869936 2021-11-30 18:00:00  LIB193335   126.000000     15.000000   \n1869937 2021-11-30 18:15:00  LIB193335   113.000000     15.000000   \n\n         Measurement-1  Measurement_diff  \n1792832     174.000000          2.000000  \n1792833     176.000000         41.000000  \n1792834     135.000000         27.000000  \n1792835     108.000000         19.000000  \n1792836      89.000000          7.000000  \n...                ...               ...  \n1869933     169.000000         13.000000  \n1869934     182.000000          5.000000  \n1869935     177.000000         23.000000  \n1869936     154.000000         28.000000  \n1869937     126.000000         13.000000  \n\n[77106 rows x 6 columns]",
      "text/html": "<div>\n<style scoped>\n    .dataframe tbody tr th:only-of-type {\n        vertical-align: middle;\n    }\n\n    .dataframe tbody tr th {\n        vertical-align: top;\n    }\n\n    .dataframe thead th {\n        text-align: right;\n    }\n</style>\n<table border=\"1\" class=\"dataframe\">\n  <thead>\n    <tr style=\"text-align: right;\">\n      <th></th>\n      <th>t</th>\n      <th>Patient_ID</th>\n      <th>Measurement</th>\n      <th>Minutes_diff</th>\n      <th>Measurement-1</th>\n      <th>Measurement_diff</th>\n    </tr>\n  </thead>\n  <tbody>\n    <tr>\n      <th>1792832</th>\n      <td>2019-09-19 14:00:00</td>\n      <td>LIB193335</td>\n      <td>176.000000</td>\n      <td>15.000000</td>\n      <td>174.000000</td>\n      <td>2.000000</td>\n    </tr>\n    <tr>\n      <th>1792833</th>\n      <td>2019-09-19 14:15:00</td>\n      <td>LIB193335</td>\n      <td>135.000000</td>\n      <td>15.000000</td>\n      <td>176.000000</td>\n      <td>41.000000</td>\n    </tr>\n    <tr>\n      <th>1792834</th>\n      <td>2019-09-19 14:30:00</td>\n      <td>LIB193335</td>\n      <td>108.000000</td>\n      <td>15.000000</td>\n      <td>135.000000</td>\n      <td>27.000000</td>\n    </tr>\n    <tr>\n      <th>1792835</th>\n      <td>2019-09-19 14:45:00</td>\n      <td>LIB193335</td>\n      <td>89.000000</td>\n      <td>15.000000</td>\n      <td>108.000000</td>\n      <td>19.000000</td>\n    </tr>\n    <tr>\n      <th>1792836</th>\n      <td>2019-09-19 15:00:00</td>\n      <td>LIB193335</td>\n      <td>82.000000</td>\n      <td>15.000000</td>\n      <td>89.000000</td>\n      <td>7.000000</td>\n    </tr>\n    <tr>\n      <th>...</th>\n      <td>...</td>\n      <td>...</td>\n      <td>...</td>\n      <td>...</td>\n      <td>...</td>\n      <td>...</td>\n    </tr>\n    <tr>\n      <th>1869933</th>\n      <td>2021-11-30 17:15:00</td>\n      <td>LIB193335</td>\n      <td>182.000000</td>\n      <td>15.000000</td>\n      <td>169.000000</td>\n      <td>13.000000</td>\n    </tr>\n    <tr>\n      <th>1869934</th>\n      <td>2021-11-30 17:30:00</td>\n      <td>LIB193335</td>\n      <td>177.000000</td>\n      <td>15.000000</td>\n      <td>182.000000</td>\n      <td>5.000000</td>\n    </tr>\n    <tr>\n      <th>1869935</th>\n      <td>2021-11-30 17:45:00</td>\n      <td>LIB193335</td>\n      <td>154.000000</td>\n      <td>15.000000</td>\n      <td>177.000000</td>\n      <td>23.000000</td>\n    </tr>\n    <tr>\n      <th>1869936</th>\n      <td>2021-11-30 18:00:00</td>\n      <td>LIB193335</td>\n      <td>126.000000</td>\n      <td>15.000000</td>\n      <td>154.000000</td>\n      <td>28.000000</td>\n    </tr>\n    <tr>\n      <th>1869937</th>\n      <td>2021-11-30 18:15:00</td>\n      <td>LIB193335</td>\n      <td>113.000000</td>\n      <td>15.000000</td>\n      <td>126.000000</td>\n      <td>13.000000</td>\n    </tr>\n  </tbody>\n</table>\n<p>77106 rows × 6 columns</p>\n</div>"
     },
     "execution_count": 338,
     "metadata": {},
     "output_type": "execute_result"
    }
   ],
   "source": [
    "df_glucose_upsampled[(df_glucose_upsampled['Patient_ID'] == 'LIB193335') & (df_glucose_upsampled['t'] > '2019-09-19 13:45:00')]"
   ],
   "metadata": {
    "collapsed": false
   }
  },
  {
   "cell_type": "code",
   "execution_count": 335,
   "outputs": [
    {
     "data": {
      "text/plain": "                          t Patient_ID  Measurement  Minutes_diff  \\\n1334742 2019-09-19 14:00:00  LIB193335   176.000000     15.000000   \n1334743 2019-09-19 14:15:00  LIB193335   135.000000     15.000000   \n1334744 2019-09-19 14:30:00  LIB193335   108.000000     15.000000   \n1334745 2019-09-19 14:45:00  LIB193335    89.000000     15.000000   \n1334746 2019-09-19 15:00:00  LIB193335    82.000000     15.000000   \n...                     ...        ...          ...           ...   \n1354363 2021-11-30 17:15:00  LIB193335   182.000000     15.000000   \n1354364 2021-11-30 17:30:00  LIB193335   177.000000     15.000000   \n1354365 2021-11-30 17:45:00  LIB193335   154.000000     15.000000   \n1354366 2021-11-30 18:00:00  LIB193335   126.000000     15.000000   \n1354367 2021-11-30 18:15:00  LIB193335   113.000000     15.000000   \n\n         Measurement-1  Measurement_diff                 t-1  \n1334742     174.000000          2.000000 2019-09-19 13:45:00  \n1334743     176.000000         41.000000 2019-09-19 14:00:00  \n1334744     135.000000         27.000000 2019-09-19 14:15:00  \n1334745     108.000000         19.000000 2019-09-19 14:30:00  \n1334746      89.000000          7.000000 2019-09-19 14:45:00  \n...                ...               ...                 ...  \n1354363     169.000000         13.000000 2021-11-30 17:00:00  \n1354364     182.000000          5.000000 2021-11-30 17:15:00  \n1354365     177.000000         23.000000 2021-11-30 17:30:00  \n1354366     154.000000         28.000000 2021-11-30 17:45:00  \n1354367     126.000000         13.000000 2021-11-30 18:00:00  \n\n[19626 rows x 7 columns]",
      "text/html": "<div>\n<style scoped>\n    .dataframe tbody tr th:only-of-type {\n        vertical-align: middle;\n    }\n\n    .dataframe tbody tr th {\n        vertical-align: top;\n    }\n\n    .dataframe thead th {\n        text-align: right;\n    }\n</style>\n<table border=\"1\" class=\"dataframe\">\n  <thead>\n    <tr style=\"text-align: right;\">\n      <th></th>\n      <th>t</th>\n      <th>Patient_ID</th>\n      <th>Measurement</th>\n      <th>Minutes_diff</th>\n      <th>Measurement-1</th>\n      <th>Measurement_diff</th>\n      <th>t-1</th>\n    </tr>\n  </thead>\n  <tbody>\n    <tr>\n      <th>1334742</th>\n      <td>2019-09-19 14:00:00</td>\n      <td>LIB193335</td>\n      <td>176.000000</td>\n      <td>15.000000</td>\n      <td>174.000000</td>\n      <td>2.000000</td>\n      <td>2019-09-19 13:45:00</td>\n    </tr>\n    <tr>\n      <th>1334743</th>\n      <td>2019-09-19 14:15:00</td>\n      <td>LIB193335</td>\n      <td>135.000000</td>\n      <td>15.000000</td>\n      <td>176.000000</td>\n      <td>41.000000</td>\n      <td>2019-09-19 14:00:00</td>\n    </tr>\n    <tr>\n      <th>1334744</th>\n      <td>2019-09-19 14:30:00</td>\n      <td>LIB193335</td>\n      <td>108.000000</td>\n      <td>15.000000</td>\n      <td>135.000000</td>\n      <td>27.000000</td>\n      <td>2019-09-19 14:15:00</td>\n    </tr>\n    <tr>\n      <th>1334745</th>\n      <td>2019-09-19 14:45:00</td>\n      <td>LIB193335</td>\n      <td>89.000000</td>\n      <td>15.000000</td>\n      <td>108.000000</td>\n      <td>19.000000</td>\n      <td>2019-09-19 14:30:00</td>\n    </tr>\n    <tr>\n      <th>1334746</th>\n      <td>2019-09-19 15:00:00</td>\n      <td>LIB193335</td>\n      <td>82.000000</td>\n      <td>15.000000</td>\n      <td>89.000000</td>\n      <td>7.000000</td>\n      <td>2019-09-19 14:45:00</td>\n    </tr>\n    <tr>\n      <th>...</th>\n      <td>...</td>\n      <td>...</td>\n      <td>...</td>\n      <td>...</td>\n      <td>...</td>\n      <td>...</td>\n      <td>...</td>\n    </tr>\n    <tr>\n      <th>1354363</th>\n      <td>2021-11-30 17:15:00</td>\n      <td>LIB193335</td>\n      <td>182.000000</td>\n      <td>15.000000</td>\n      <td>169.000000</td>\n      <td>13.000000</td>\n      <td>2021-11-30 17:00:00</td>\n    </tr>\n    <tr>\n      <th>1354364</th>\n      <td>2021-11-30 17:30:00</td>\n      <td>LIB193335</td>\n      <td>177.000000</td>\n      <td>15.000000</td>\n      <td>182.000000</td>\n      <td>5.000000</td>\n      <td>2021-11-30 17:15:00</td>\n    </tr>\n    <tr>\n      <th>1354365</th>\n      <td>2021-11-30 17:45:00</td>\n      <td>LIB193335</td>\n      <td>154.000000</td>\n      <td>15.000000</td>\n      <td>177.000000</td>\n      <td>23.000000</td>\n      <td>2021-11-30 17:30:00</td>\n    </tr>\n    <tr>\n      <th>1354366</th>\n      <td>2021-11-30 18:00:00</td>\n      <td>LIB193335</td>\n      <td>126.000000</td>\n      <td>15.000000</td>\n      <td>154.000000</td>\n      <td>28.000000</td>\n      <td>2021-11-30 17:45:00</td>\n    </tr>\n    <tr>\n      <th>1354367</th>\n      <td>2021-11-30 18:15:00</td>\n      <td>LIB193335</td>\n      <td>113.000000</td>\n      <td>15.000000</td>\n      <td>126.000000</td>\n      <td>13.000000</td>\n      <td>2021-11-30 18:00:00</td>\n    </tr>\n  </tbody>\n</table>\n<p>19626 rows × 7 columns</p>\n</div>"
     },
     "execution_count": 335,
     "metadata": {},
     "output_type": "execute_result"
    }
   ],
   "source": [
    "df_downsampled[(df_downsampled['Patient_ID'] == 'LIB193335') & (df_downsampled['t'] > '2019-09-19 13:45:00')]"
   ],
   "metadata": {
    "collapsed": false
   }
  },
  {
   "cell_type": "code",
   "execution_count": 155,
   "outputs": [
    {
     "data": {
      "text/plain": "      Patient_ID Measurement_date Measurement_time  Measurement  \\\n60067  LIB193263       2022-03-19         00:02:00          214   \n60068  LIB193263       2022-03-19         00:17:00          204   \n60069  LIB193263       2022-03-19         00:32:00          186   \n60070  LIB193263       2022-03-19         00:47:00          164   \n60071  LIB193263       2022-03-19         01:02:00          153   \n...          ...              ...              ...          ...   \n60124  LIB193264       2020-06-10         07:24:00          190   \n60125  LIB193264       2020-06-10         07:39:00          200   \n60126  LIB193264       2020-06-10         07:54:00          198   \n60127  LIB193264       2020-06-10         08:09:00          201   \n60128  LIB193264       2020-06-10         08:24:00          213   \n\n                        t                 t-1  Minutes_diff  Measurement-1  \\\n60067 2022-03-19 00:02:00 2022-03-18 23:01:00     61.000000     240.000000   \n60068 2022-03-19 00:17:00 2022-03-19 00:02:00     15.000000     214.000000   \n60069 2022-03-19 00:32:00 2022-03-19 00:17:00     15.000000     204.000000   \n60070 2022-03-19 00:47:00 2022-03-19 00:32:00     15.000000     186.000000   \n60071 2022-03-19 01:02:00 2022-03-19 00:47:00     15.000000     164.000000   \n...                   ...                 ...           ...            ...   \n60124 2020-06-10 07:24:00 2020-06-10 07:09:00     15.000000     179.000000   \n60125 2020-06-10 07:39:00 2020-06-10 07:24:00     15.000000     190.000000   \n60126 2020-06-10 07:54:00 2020-06-10 07:39:00     15.000000     200.000000   \n60127 2020-06-10 08:09:00 2020-06-10 07:54:00     15.000000     198.000000   \n60128 2020-06-10 08:24:00 2020-06-10 08:09:00     15.000000     201.000000   \n\n       Measurement_diff  index  split  Interval  difference_min  Frequency  \n60067         26.000000  60067   2619  1.000000 55896780.000000       2619  \n60068         10.000000  60068   2619  2.000000 55897680.000000       2619  \n60069         18.000000  60069   2619  3.000000 55898580.000000       2619  \n60070         22.000000  60070   2619  4.000000 55899480.000000       2619  \n60071         11.000000  60071   2619  5.000000 55900380.000000       2619  \n...                 ...    ...    ...       ...             ...        ...  \n60124         11.000000  60124   2619       NaN    22500.000000       2619  \n60125         10.000000  60125   2619       NaN    23400.000000       2619  \n60126          2.000000  60126   2619       NaN    24300.000000       2619  \n60127          3.000000  60127   2619       NaN    25200.000000       2619  \n60128         12.000000  60128   2619       NaN    26100.000000       2619  \n\n[61 rows x 14 columns]",
      "text/html": "<div>\n<style scoped>\n    .dataframe tbody tr th:only-of-type {\n        vertical-align: middle;\n    }\n\n    .dataframe tbody tr th {\n        vertical-align: top;\n    }\n\n    .dataframe thead th {\n        text-align: right;\n    }\n</style>\n<table border=\"1\" class=\"dataframe\">\n  <thead>\n    <tr style=\"text-align: right;\">\n      <th></th>\n      <th>Patient_ID</th>\n      <th>Measurement_date</th>\n      <th>Measurement_time</th>\n      <th>Measurement</th>\n      <th>t</th>\n      <th>t-1</th>\n      <th>Minutes_diff</th>\n      <th>Measurement-1</th>\n      <th>Measurement_diff</th>\n      <th>index</th>\n      <th>split</th>\n      <th>Interval</th>\n      <th>difference_min</th>\n      <th>Frequency</th>\n    </tr>\n  </thead>\n  <tbody>\n    <tr>\n      <th>60067</th>\n      <td>LIB193263</td>\n      <td>2022-03-19</td>\n      <td>00:02:00</td>\n      <td>214</td>\n      <td>2022-03-19 00:02:00</td>\n      <td>2022-03-18 23:01:00</td>\n      <td>61.000000</td>\n      <td>240.000000</td>\n      <td>26.000000</td>\n      <td>60067</td>\n      <td>2619</td>\n      <td>1.000000</td>\n      <td>55896780.000000</td>\n      <td>2619</td>\n    </tr>\n    <tr>\n      <th>60068</th>\n      <td>LIB193263</td>\n      <td>2022-03-19</td>\n      <td>00:17:00</td>\n      <td>204</td>\n      <td>2022-03-19 00:17:00</td>\n      <td>2022-03-19 00:02:00</td>\n      <td>15.000000</td>\n      <td>214.000000</td>\n      <td>10.000000</td>\n      <td>60068</td>\n      <td>2619</td>\n      <td>2.000000</td>\n      <td>55897680.000000</td>\n      <td>2619</td>\n    </tr>\n    <tr>\n      <th>60069</th>\n      <td>LIB193263</td>\n      <td>2022-03-19</td>\n      <td>00:32:00</td>\n      <td>186</td>\n      <td>2022-03-19 00:32:00</td>\n      <td>2022-03-19 00:17:00</td>\n      <td>15.000000</td>\n      <td>204.000000</td>\n      <td>18.000000</td>\n      <td>60069</td>\n      <td>2619</td>\n      <td>3.000000</td>\n      <td>55898580.000000</td>\n      <td>2619</td>\n    </tr>\n    <tr>\n      <th>60070</th>\n      <td>LIB193263</td>\n      <td>2022-03-19</td>\n      <td>00:47:00</td>\n      <td>164</td>\n      <td>2022-03-19 00:47:00</td>\n      <td>2022-03-19 00:32:00</td>\n      <td>15.000000</td>\n      <td>186.000000</td>\n      <td>22.000000</td>\n      <td>60070</td>\n      <td>2619</td>\n      <td>4.000000</td>\n      <td>55899480.000000</td>\n      <td>2619</td>\n    </tr>\n    <tr>\n      <th>60071</th>\n      <td>LIB193263</td>\n      <td>2022-03-19</td>\n      <td>01:02:00</td>\n      <td>153</td>\n      <td>2022-03-19 01:02:00</td>\n      <td>2022-03-19 00:47:00</td>\n      <td>15.000000</td>\n      <td>164.000000</td>\n      <td>11.000000</td>\n      <td>60071</td>\n      <td>2619</td>\n      <td>5.000000</td>\n      <td>55900380.000000</td>\n      <td>2619</td>\n    </tr>\n    <tr>\n      <th>...</th>\n      <td>...</td>\n      <td>...</td>\n      <td>...</td>\n      <td>...</td>\n      <td>...</td>\n      <td>...</td>\n      <td>...</td>\n      <td>...</td>\n      <td>...</td>\n      <td>...</td>\n      <td>...</td>\n      <td>...</td>\n      <td>...</td>\n      <td>...</td>\n    </tr>\n    <tr>\n      <th>60124</th>\n      <td>LIB193264</td>\n      <td>2020-06-10</td>\n      <td>07:24:00</td>\n      <td>190</td>\n      <td>2020-06-10 07:24:00</td>\n      <td>2020-06-10 07:09:00</td>\n      <td>15.000000</td>\n      <td>179.000000</td>\n      <td>11.000000</td>\n      <td>60124</td>\n      <td>2619</td>\n      <td>NaN</td>\n      <td>22500.000000</td>\n      <td>2619</td>\n    </tr>\n    <tr>\n      <th>60125</th>\n      <td>LIB193264</td>\n      <td>2020-06-10</td>\n      <td>07:39:00</td>\n      <td>200</td>\n      <td>2020-06-10 07:39:00</td>\n      <td>2020-06-10 07:24:00</td>\n      <td>15.000000</td>\n      <td>190.000000</td>\n      <td>10.000000</td>\n      <td>60125</td>\n      <td>2619</td>\n      <td>NaN</td>\n      <td>23400.000000</td>\n      <td>2619</td>\n    </tr>\n    <tr>\n      <th>60126</th>\n      <td>LIB193264</td>\n      <td>2020-06-10</td>\n      <td>07:54:00</td>\n      <td>198</td>\n      <td>2020-06-10 07:54:00</td>\n      <td>2020-06-10 07:39:00</td>\n      <td>15.000000</td>\n      <td>200.000000</td>\n      <td>2.000000</td>\n      <td>60126</td>\n      <td>2619</td>\n      <td>NaN</td>\n      <td>24300.000000</td>\n      <td>2619</td>\n    </tr>\n    <tr>\n      <th>60127</th>\n      <td>LIB193264</td>\n      <td>2020-06-10</td>\n      <td>08:09:00</td>\n      <td>201</td>\n      <td>2020-06-10 08:09:00</td>\n      <td>2020-06-10 07:54:00</td>\n      <td>15.000000</td>\n      <td>198.000000</td>\n      <td>3.000000</td>\n      <td>60127</td>\n      <td>2619</td>\n      <td>NaN</td>\n      <td>25200.000000</td>\n      <td>2619</td>\n    </tr>\n    <tr>\n      <th>60128</th>\n      <td>LIB193264</td>\n      <td>2020-06-10</td>\n      <td>08:24:00</td>\n      <td>213</td>\n      <td>2020-06-10 08:24:00</td>\n      <td>2020-06-10 08:09:00</td>\n      <td>15.000000</td>\n      <td>201.000000</td>\n      <td>12.000000</td>\n      <td>60128</td>\n      <td>2619</td>\n      <td>NaN</td>\n      <td>26100.000000</td>\n      <td>2619</td>\n    </tr>\n  </tbody>\n</table>\n<p>61 rows × 14 columns</p>\n</div>"
     },
     "execution_count": 155,
     "metadata": {},
     "output_type": "execute_result"
    }
   ],
   "source": [
    "df_glucose_lag[(df_glucose_lag['t'] > '2020-06-09 19:00:00') & (df_glucose_lag['Frequency'] == 2619)]"
   ],
   "metadata": {
    "collapsed": false
   }
  },
  {
   "cell_type": "code",
   "execution_count": 150,
   "outputs": [
    {
     "data": {
      "text/plain": "                               Measurement  Minutes_diff  Measurement-1  \\\nFrequency t                                                               \n2619      2020-06-10 08:30:00          NaN           NaN            NaN   \n          2020-06-10 08:45:00          NaN           NaN            NaN   \n          2020-06-10 09:00:00          NaN           NaN            NaN   \n          2020-06-10 09:15:00          NaN           NaN            NaN   \n          2020-06-10 09:30:00          NaN           NaN            NaN   \n...                                    ...           ...            ...   \n166680    2022-03-18 08:45:00          NaN           NaN            NaN   \n          2022-03-18 09:00:00          NaN           NaN            NaN   \n          2022-03-18 09:15:00          NaN           NaN            NaN   \n          2022-03-18 09:30:00          NaN           NaN            NaN   \n          2022-03-18 09:45:00          NaN           NaN            NaN   \n\n                               Measurement_diff  index  split  Interval  \\\nFrequency t                                                               \n2619      2020-06-10 08:30:00               NaN    NaN    NaN       NaN   \n          2020-06-10 08:45:00               NaN    NaN    NaN       NaN   \n          2020-06-10 09:00:00               NaN    NaN    NaN       NaN   \n          2020-06-10 09:15:00               NaN    NaN    NaN       NaN   \n          2020-06-10 09:30:00               NaN    NaN    NaN       NaN   \n...                                         ...    ...    ...       ...   \n166680    2022-03-18 08:45:00               NaN    NaN    NaN       NaN   \n          2022-03-18 09:00:00               NaN    NaN    NaN       NaN   \n          2022-03-18 09:15:00               NaN    NaN    NaN       NaN   \n          2022-03-18 09:30:00               NaN    NaN    NaN       NaN   \n          2022-03-18 09:45:00               NaN    NaN    NaN       NaN   \n\n                               difference_min  Frequency  \nFrequency t                                               \n2619      2020-06-10 08:30:00             NaN        NaN  \n          2020-06-10 08:45:00             NaN        NaN  \n          2020-06-10 09:00:00             NaN        NaN  \n          2020-06-10 09:15:00             NaN        NaN  \n          2020-06-10 09:30:00             NaN        NaN  \n...                                       ...        ...  \n166680    2022-03-18 08:45:00             NaN        NaN  \n          2022-03-18 09:00:00             NaN        NaN  \n          2022-03-18 09:15:00             NaN        NaN  \n          2022-03-18 09:30:00             NaN        NaN  \n          2022-03-18 09:45:00             NaN        NaN  \n\n[4241698 rows x 9 columns]",
      "text/html": "<div>\n<style scoped>\n    .dataframe tbody tr th:only-of-type {\n        vertical-align: middle;\n    }\n\n    .dataframe tbody tr th {\n        vertical-align: top;\n    }\n\n    .dataframe thead th {\n        text-align: right;\n    }\n</style>\n<table border=\"1\" class=\"dataframe\">\n  <thead>\n    <tr style=\"text-align: right;\">\n      <th></th>\n      <th></th>\n      <th>Measurement</th>\n      <th>Minutes_diff</th>\n      <th>Measurement-1</th>\n      <th>Measurement_diff</th>\n      <th>index</th>\n      <th>split</th>\n      <th>Interval</th>\n      <th>difference_min</th>\n      <th>Frequency</th>\n    </tr>\n    <tr>\n      <th>Frequency</th>\n      <th>t</th>\n      <th></th>\n      <th></th>\n      <th></th>\n      <th></th>\n      <th></th>\n      <th></th>\n      <th></th>\n      <th></th>\n      <th></th>\n    </tr>\n  </thead>\n  <tbody>\n    <tr>\n      <th rowspan=\"5\" valign=\"top\">2619</th>\n      <th>2020-06-10 08:30:00</th>\n      <td>NaN</td>\n      <td>NaN</td>\n      <td>NaN</td>\n      <td>NaN</td>\n      <td>NaN</td>\n      <td>NaN</td>\n      <td>NaN</td>\n      <td>NaN</td>\n      <td>NaN</td>\n    </tr>\n    <tr>\n      <th>2020-06-10 08:45:00</th>\n      <td>NaN</td>\n      <td>NaN</td>\n      <td>NaN</td>\n      <td>NaN</td>\n      <td>NaN</td>\n      <td>NaN</td>\n      <td>NaN</td>\n      <td>NaN</td>\n      <td>NaN</td>\n    </tr>\n    <tr>\n      <th>2020-06-10 09:00:00</th>\n      <td>NaN</td>\n      <td>NaN</td>\n      <td>NaN</td>\n      <td>NaN</td>\n      <td>NaN</td>\n      <td>NaN</td>\n      <td>NaN</td>\n      <td>NaN</td>\n      <td>NaN</td>\n    </tr>\n    <tr>\n      <th>2020-06-10 09:15:00</th>\n      <td>NaN</td>\n      <td>NaN</td>\n      <td>NaN</td>\n      <td>NaN</td>\n      <td>NaN</td>\n      <td>NaN</td>\n      <td>NaN</td>\n      <td>NaN</td>\n      <td>NaN</td>\n    </tr>\n    <tr>\n      <th>2020-06-10 09:30:00</th>\n      <td>NaN</td>\n      <td>NaN</td>\n      <td>NaN</td>\n      <td>NaN</td>\n      <td>NaN</td>\n      <td>NaN</td>\n      <td>NaN</td>\n      <td>NaN</td>\n      <td>NaN</td>\n    </tr>\n    <tr>\n      <th>...</th>\n      <th>...</th>\n      <td>...</td>\n      <td>...</td>\n      <td>...</td>\n      <td>...</td>\n      <td>...</td>\n      <td>...</td>\n      <td>...</td>\n      <td>...</td>\n      <td>...</td>\n    </tr>\n    <tr>\n      <th rowspan=\"5\" valign=\"top\">166680</th>\n      <th>2022-03-18 08:45:00</th>\n      <td>NaN</td>\n      <td>NaN</td>\n      <td>NaN</td>\n      <td>NaN</td>\n      <td>NaN</td>\n      <td>NaN</td>\n      <td>NaN</td>\n      <td>NaN</td>\n      <td>NaN</td>\n    </tr>\n    <tr>\n      <th>2022-03-18 09:00:00</th>\n      <td>NaN</td>\n      <td>NaN</td>\n      <td>NaN</td>\n      <td>NaN</td>\n      <td>NaN</td>\n      <td>NaN</td>\n      <td>NaN</td>\n      <td>NaN</td>\n      <td>NaN</td>\n    </tr>\n    <tr>\n      <th>2022-03-18 09:15:00</th>\n      <td>NaN</td>\n      <td>NaN</td>\n      <td>NaN</td>\n      <td>NaN</td>\n      <td>NaN</td>\n      <td>NaN</td>\n      <td>NaN</td>\n      <td>NaN</td>\n      <td>NaN</td>\n    </tr>\n    <tr>\n      <th>2022-03-18 09:30:00</th>\n      <td>NaN</td>\n      <td>NaN</td>\n      <td>NaN</td>\n      <td>NaN</td>\n      <td>NaN</td>\n      <td>NaN</td>\n      <td>NaN</td>\n      <td>NaN</td>\n      <td>NaN</td>\n    </tr>\n    <tr>\n      <th>2022-03-18 09:45:00</th>\n      <td>NaN</td>\n      <td>NaN</td>\n      <td>NaN</td>\n      <td>NaN</td>\n      <td>NaN</td>\n      <td>NaN</td>\n      <td>NaN</td>\n      <td>NaN</td>\n      <td>NaN</td>\n    </tr>\n  </tbody>\n</table>\n<p>4241698 rows × 9 columns</p>\n</div>"
     },
     "execution_count": 150,
     "metadata": {},
     "output_type": "execute_result"
    }
   ],
   "source": [
    "df_glucose_resampled[df_glucose_resampled['Measurement'].isna()]"
   ],
   "metadata": {
    "collapsed": false
   }
  },
  {
   "cell_type": "markdown",
   "source": [
    "## Autocorrelation"
   ],
   "metadata": {
    "collapsed": false
   }
  },
  {
   "cell_type": "code",
   "execution_count": 109,
   "outputs": [
    {
     "data": {
      "text/plain": "<Figure size 864x432 with 1 Axes>",
      "image/png": "[encoded data removed]"
     },
     "metadata": {},
     "output_type": "display_data"
    }
   ],
   "source": [
    "fig, ax = plt.subplots(figsize=(12, 6))\n",
    "plot_acf(df_autocorrelation[\"Measurement\"], ax=ax, color = \"red\")\n",
    "ax.fill_between(np.arange(0, 21), -1.96/np.sqrt(len(df_autocorrelation2[\"Measurement\"])), 1.96/np.sqrt(len(df_autocorrelation2[\"Measurement\"])), color='yellow', alpha=0.2)\n",
    "plt.xlabel(\"Lags\")\n",
    "plt.ylabel(\"Autocorrelation\")\n",
    "plt.show()"
   ],
   "metadata": {
    "collapsed": false
   }
  },
  {
   "cell_type": "code",
   "execution_count": 83,
   "outputs": [
    {
     "data": {
      "text/plain": "<Figure size 864x432 with 1 Axes>",
      "image/png": "[encoded data removed]"
     },
     "metadata": {},
     "output_type": "display_data"
    }
   ],
   "source": [
    "fig, ax = plt.subplots(figsize=(12, 6))\n",
    "plot_acf(df_autocorrelation[\"Measurement\"], ax=ax, color = \"red\")\n",
    "ax.fill_between(np.arange(0, 21), -1.96/np.sqrt(len(df_autocorrelation[\"Measurement\"])), 1.96/np.sqrt(len(df_autocorrelation[\"Measurement\"])), color='yellow', alpha=0.2)\n",
    "plt.xlabel(\"Lags\")\n",
    "plt.ylabel(\"Autocorrelation\")\n",
    "plt.show()"
   ],
   "metadata": {
    "collapsed": false
   }
  },
  {
   "cell_type": "code",
   "execution_count": 85,
   "outputs": [],
   "source": [
    "# Exporting the preprocessing dataset\n",
    "\n",
    "df_glucose.to_csv('data_preprocessed.csv')"
   ],
   "metadata": {
    "collapsed": false
   }
  }
 ],
 "metadata": {
  "kernelspec": {
   "display_name": "Python 3",
   "language": "python",
   "name": "python3"
  },
  "language_info": {
   "codemirror_mode": {
    "name": "ipython",
    "version": 2
   },
   "file_extension": ".py",
   "mimetype": "text/x-python",
   "name": "python",
   "nbconvert_exporter": "python",
   "pygments_lexer": "ipython2",
   "version": "2.7.6"
  }
 },
 "nbformat": 4,
 "nbformat_minor": 0
}
